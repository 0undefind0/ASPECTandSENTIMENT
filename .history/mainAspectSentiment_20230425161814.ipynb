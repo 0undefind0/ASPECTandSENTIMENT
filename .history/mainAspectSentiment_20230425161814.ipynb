{
 "cells": [
  {
   "cell_type": "code",
   "execution_count": 19,
   "metadata": {},
   "outputs": [],
   "source": [
    "# FUNCTION DECLARATIONS\n",
    "\n",
    "# getAspectDescription(text: string) => [{aspect: string, description: string}]\n",
    "# getSentiment(raw_text: string) => (output: string, prediction: (polarity, subjectivity))"
   ]
  },
  {
   "attachments": {},
   "cell_type": "markdown",
   "metadata": {},
   "source": [
    "# getAspectDescription"
   ]
  },
  {
   "cell_type": "code",
   "execution_count": 20,
   "metadata": {},
   "outputs": [],
   "source": [
    "# %pip install spacy"
   ]
  },
  {
   "cell_type": "code",
   "execution_count": 21,
   "metadata": {},
   "outputs": [],
   "source": [
    "# We get started by importing spacy\n",
    "import spacy\n",
    "nlp = spacy.load(\"en_core_web_lg\")"
   ]
  },
  {
   "cell_type": "code",
   "execution_count": 22,
   "metadata": {},
   "outputs": [],
   "source": [
    "# getAspectDescription(text: string) => [{aspect: string, description: string}]\n",
    "\n",
    "def getAspectDescription(text):\n",
    "    # getAspectDescription(text: string) => [{aspect: string, description: string}]\n",
    "    aspects = []\n",
    "\n",
    "    doc = nlp(text)\n",
    "    descriptive_term = ''\n",
    "    target = []\n",
    "    for token in doc:\n",
    "        if token.dep_ == 'nsubj' and token.pos_ == 'NOUN':\n",
    "            # target = token.text\n",
    "            target.append(token.text)\n",
    "        if token.pos_ == 'ADJ':\n",
    "            prepend = ''\n",
    "            for child in token.children:\n",
    "                if child.pos_ != 'ADV':\n",
    "                    continue\n",
    "                prepend += child.text + ' '\n",
    "            descriptive_term = f\"{prepend}\" + token.text\n",
    "\n",
    "    aspects.append({'aspect': target, 'description': descriptive_term})\n",
    "\n",
    "    return aspects\n"
   ]
  },
  {
   "cell_type": "code",
   "execution_count": 23,
   "metadata": {},
   "outputs": [
    {
     "name": "stdout",
     "output_type": "stream",
     "text": [
      "[{'aspect': ['quality', 'earphones'], 'description': 'wireless'}]\n",
      "[{'aspect': ['earphones', 'quality'], 'description': 'very happy'}]\n",
      "[{'aspect': ['quality'], 'description': 'comfortable'}]\n",
      "[{'aspect': ['earphones', 'quality'], 'description': 'great'}]\n",
      "[{'aspect': ['quality'], 'description': 'wireless'}]\n",
      "[{'aspect': ['earphones', 'quality', 'life'], 'description': 'really impressive'}]\n",
      "[{'aspect': ['quality'], 'description': 'really easy'}]\n",
      "[{'aspect': ['earphones', 'quality'], 'description': 'really easy'}]\n",
      "[{'aspect': ['quality'], 'description': 'really good'}]\n",
      "[{'aspect': ['earphones', 'quality'], 'description': 'wireless'}]\n"
     ]
    }
   ],
   "source": [
    "sentences = [\n",
    "    \"The sound quality is amazing and the earphones are very comfortable to wear. I would definitely recommend this product to anyone looking for a high-quality wireless earphone.\",\n",
    "    \"These earphones are a great value for the price. They have a long battery life and the sound quality is really good. I'm very happy with my purchase.\",\n",
    "    \"I'm really impressed with these earphones. They connect to my phone really quickly and the sound quality is excellent. Plus, they're very lightweight and comfortable to wear.\",\n",
    "    \"These earphones are so convenient! I love that they're wireless and I don't have to worry about cords getting tangled. The sound quality is great too.\",\n",
    "    \"I bought these earphones for working out and they're perfect. They stay in place really well and the sound quality is really good. I would definitely recommend them to anyone looking for wireless earphones for working out.\",\n",
    "    \"These earphones are amazing! The sound quality is excellent and they're really comfortable to wear. Plus, the battery life is really impressive - I can use them for hours without having to recharge.\",\n",
    "    \"I'm really happy with these earphones. They fit my ears really well and the sound quality is excellent. Plus, they're really easy to use - I can control the volume and playback from the earphones themselves.\",\n",
    "    \"These earphones are so stylish! I love the sleek design and the sound quality is really good too. They're also really easy to pair with my phone.\",\n",
    "    \"I'm very impressed with these earphones. They have a great range and I can use them all over my house without losing connection. The sound quality is also really good.\",\n",
    "    \"These earphones are a great value for the price. They have a long battery life and the sound quality is really good. I would definitely recommend them to anyone looking for wireless earphones.\"\n",
    "]\n",
    "\n",
    "for sentence in sentences:\n",
    "    print(getAspectDescription(sentence))"
   ]
  },
  {
   "attachments": {},
   "cell_type": "markdown",
   "metadata": {},
   "source": [
    "# getSentiment"
   ]
  },
  {
   "cell_type": "code",
   "execution_count": 24,
   "metadata": {},
   "outputs": [],
   "source": [
    "# %pip install pandas\n",
    "# %pip install re\n",
    "# %pip install bs4\n",
    "# %pip install nltk\n",
    "# %pip install pickle"
   ]
  },
  {
   "cell_type": "code",
   "execution_count": 25,
   "metadata": {},
   "outputs": [],
   "source": [
    "import pandas as pd\n",
    "import re\n",
    "from bs4 import BeautifulSoup\n",
    "from nltk.corpus import stopwords\n",
    "from nltk.stem.porter import PorterStemmer\n",
    "import pickle"
   ]
  },
  {
   "cell_type": "code",
   "execution_count": 28,
   "metadata": {},
   "outputs": [],
   "source": [
    "# getSentiment(raw_text: string) => (output: string, prediction: (polarity, subjectivity))\n",
    "\n",
    "model = pickle.load(open(\"C:/Users/acer/Documents/GitHub/ASPECTandSENTIMENT/modelNB.pkl\", 'rb'))\n",
    "\n",
    "def getSentiment(raw_text: str):\n",
    "\n",
    "    # Instantiate PorterStemmer\n",
    "    p_stemmer = PorterStemmer()\n",
    "\n",
    "    # Remove HTML\n",
    "    review_text = BeautifulSoup(raw_text).get_text()\n",
    "\n",
    "    # Remove non-letters\n",
    "    letters_only = re.sub(\"[^a-zA-Z]\", \" \", review_text)\n",
    "\n",
    "    # Convert words to lower case and split each word up\n",
    "    words = letters_only.lower().split()\n",
    "\n",
    "    # Convert stopwords to a set\n",
    "    stops = set(stopwords.words('english'))\n",
    "\n",
    "    # Adding on stopwords that were appearing frequently in both positive and negative reviews\n",
    "    stops.update(['app','shopee','shoppee','item','items','seller','sellers','bad'])\n",
    "\n",
    "    # Remove stopwords\n",
    "    meaningful_words = [w for w in words if w not in stops]\n",
    "\n",
    "    # Stem words\n",
    "    meaningful_words = [p_stemmer.stem(w) for w in meaningful_words]\n",
    "\n",
    "    # Join words back into one string, with a space in between each word\n",
    "    final_text = pd.Series(\" \".join(meaningful_words))\n",
    "\n",
    "    # Generate predictions\n",
    "    pred = model.predict(final_text)[0]\n",
    "    probability = model.predict_proba([pd.Series.to_string(final_text)])\n",
    "    # text = 'The product is strong and great!'\n",
    "# probs = gs_tvec_nb.predict_proba([text])  # predict probabilities for the text\n",
    "# print('Predicted probabilities:', probs)  # print the predicted probabilities\n",
    "\n",
    "    if pred == 1:\n",
    "        output = \"Negative\"\n",
    "    else:\n",
    "        output = \"Postive\"\n",
    "\n",
    "    return output, probability\n",
    "\n",
    "\n",
    "# text = \"\"\"\n",
    "# anc work in the first 3 days but the proximity sensor on the left bud stopped working\n",
    "# \"\"\"\n",
    "# result = getSentiment(text)\n",
    "# print(f'RAW_TEXT: \\t{text}')\n",
    "# print(F'\\tSENTIMENT: {result}')"
   ]
  },
  {
   "cell_type": "code",
   "execution_count": 29,
   "metadata": {},
   "outputs": [],
   "source": [
    "text = 'The product is strong, but it was not the right color. Poor packaging'"
   ]
  },
  {
   "cell_type": "code",
   "execution_count": 30,
   "metadata": {},
   "outputs": [],
   "source": [
    "output, proba = getSentiment(text)"
   ]
  },
  {
   "cell_type": "code",
   "execution_count": 31,
   "metadata": {},
   "outputs": [
    {
     "name": "stdout",
     "output_type": "stream",
     "text": [
      "Text: The product is strong, but it was not the right color. Poor packaging\tNegative\t[[0.22424745 0.77575255]]\n"
     ]
    }
   ],
   "source": [
    "print(f\"Text: {text}\", output, proba, sep='\\t')"
   ]
  },
  {
   "attachments": {},
   "cell_type": "markdown",
   "metadata": {},
   "source": [
    "# Aspect Sentiment Classification"
   ]
  },
  {
   "cell_type": "code",
   "execution_count": 32,
   "metadata": {},
   "outputs": [
    {
     "name": "stdout",
     "output_type": "stream",
     "text": [
      "Aspect: ['quality', 'earphones']\n",
      "Description: wireless\n",
      "Sentiment: ('Postive', array([[0.87712357, 0.12287643]]))\n",
      "\n",
      "Aspect: ['earphones', 'quality']\n",
      "Description: very happy\n",
      "Sentiment: ('Postive', array([[0.91932053, 0.08067947]]))\n",
      "\n",
      "Aspect: ['quality']\n",
      "Description: comfortable\n",
      "Sentiment: ('Postive', array([[0.30406668, 0.69593332]]))\n",
      "\n",
      "Aspect: ['earphones', 'quality']\n",
      "Description: great\n",
      "Sentiment: ('Postive', array([[0.96336511, 0.03663489]]))\n",
      "\n",
      "Aspect: ['quality']\n",
      "Description: wireless\n",
      "Sentiment: ('Postive', array([[0.60903319, 0.39096681]]))\n",
      "\n",
      "Aspect: ['earphones', 'quality', 'life']\n",
      "Description: really impressive\n",
      "Sentiment: ('Postive', array([[0.94260008, 0.05739992]]))\n",
      "\n",
      "Aspect: ['quality']\n",
      "Description: really easy\n",
      "Sentiment: ('Postive', array([[0.70346619, 0.29653381]]))\n",
      "\n",
      "Aspect: ['earphones', 'quality']\n",
      "Description: really easy\n",
      "Sentiment: ('Postive', array([[0.92365788, 0.07634212]]))\n",
      "\n",
      "Aspect: ['quality']\n",
      "Description: really good\n",
      "Sentiment: ('Postive', array([[0.96728605, 0.03271395]]))\n",
      "\n",
      "Aspect: ['earphones', 'quality']\n",
      "Description: wireless\n",
      "Sentiment: ('Postive', array([[0.91932053, 0.08067947]]))\n",
      "\n"
     ]
    }
   ],
   "source": [
    "sentences = [\n",
    "    \"The sound quality is amazing and the earphones are very comfortable to wear. I would definitely recommend this product to anyone looking for a high-quality wireless earphone.\",\n",
    "    \"These earphones are a great value for the price. They have a long battery life and the sound quality is really good. I'm very happy with my purchase.\",\n",
    "    \"I'm really impressed with these earphones. They connect to my phone really quickly and the sound quality is excellent. Plus, they're very lightweight and comfortable to wear.\",\n",
    "    \"These earphones are so convenient! I love that they're wireless and I don't have to worry about cords getting tangled. The sound quality is great too.\",\n",
    "    \"I bought these earphones for working out and they're perfect. They stay in place really well and the sound quality is really good. I would definitely recommend them to anyone looking for wireless earphones for working out.\",\n",
    "    \"These earphones are amazing! The sound quality is excellent and they're really comfortable to wear. Plus, the battery life is really impressive - I can use them for hours without having to recharge.\",\n",
    "    \"I'm really happy with these earphones. They fit my ears really well and the sound quality is excellent. Plus, they're really easy to use - I can control the volume and playback from the earphones themselves.\",\n",
    "    \"These earphones are so stylish! I love the sleek design and the sound quality is really good too. They're also really easy to pair with my phone.\",\n",
    "    \"I'm very impressed with these earphones. They have a great range and I can use them all over my house without losing connection. The sound quality is also really good.\",\n",
    "    \"These earphones are a great value for the price. They have a long battery life and the sound quality is really good. I would definitely recommend them to anyone looking for wireless earphones.\"\n",
    "]\n",
    "\n",
    "aspectSentiments = []\n",
    "for sentence in sentences:\n",
    "    aspects = getAspectDescription(sentence)\n",
    "    aspectSentiment = [{'aspect': aspect['aspect'], 'description': aspect['description'], 'sentiment': getSentiment(sentence)} for aspect in aspects]\n",
    "    aspectSentiments.extend(aspectSentiment)\n",
    "\n",
    "for item in aspectSentiments:\n",
    "    print(f\"Aspect: {item['aspect']}\\nDescription: {item['description']}\\nSentiment: {item['sentiment']}\\n\")"
   ]
  },
  {
   "attachments": {},
   "cell_type": "markdown",
   "metadata": {},
   "source": [
    "# Aspect-Sentence Mapping"
   ]
  },
  {
   "cell_type": "code",
   "execution_count": 68,
   "metadata": {},
   "outputs": [
    {
     "name": "stdout",
     "output_type": "stream",
     "text": [
      "Aspect: ['phone']\n",
      "Description: clear\n",
      "Sentiment: ('Postive', array([[0.59031395, 0.40968605]]))\n",
      "\n",
      "Aspect: ['phone', 'size']\n",
      "Description: just right\n",
      "Sentiment: ('Negative', array([[0.15916132, 0.84083868]]))\n",
      "\n",
      "Aspect: ['camera', 'pictures']\n",
      "Description: vivid\n",
      "Sentiment: ('Postive', array([[0.60490228, 0.39509772]]))\n",
      "\n",
      "Aspect: ['life']\n",
      "Description: incredible\n",
      "Sentiment: ('Negative', array([[0.2054525, 0.7945475]]))\n",
      "\n",
      "Aspect: []\n",
      "Description: good\n",
      "Sentiment: ('Postive', array([[0.71911786, 0.28088214]]))\n",
      "\n",
      "Aspect: ['display', 'colors', 'screen']\n",
      "Description: bright\n",
      "Sentiment: ('Negative', array([[0.51080566, 0.48919434]]))\n",
      "\n",
      "Aspect: ['size']\n",
      "Description: too small\n",
      "Sentiment: ('Negative', array([[0.26103637, 0.73896363]]))\n",
      "\n",
      "Aspect: ['camera']\n",
      "Description: really happy\n",
      "Sentiment: ('Postive', array([[0.52485902, 0.47514098]]))\n",
      "\n",
      "Aspect: []\n",
      "Description: \n",
      "Sentiment: ('Negative', array([[0.26878781, 0.73121219]]))\n",
      "\n",
      "Aspect: []\n",
      "Description: direct\n",
      "Sentiment: ('Postive', array([[0.59031395, 0.40968605]]))\n",
      "\n"
     ]
    }
   ],
   "source": [
    "sentences = [\n",
    "    \"The phone has a huge display that is crystal clear. I love watching videos on it.\",\n",
    "    \"This phone is compact and fits perfectly in my pocket. The size is just right.\",\n",
    "    \"The camera on this phone is amazing. The pictures come out clear and vivid.\",\n",
    "    \"The battery life on this phone is incredible. I can go all day without needing to charge it.\",\n",
    "    \"I'm impressed with the phone's sleek design. It looks great and feels good in my hand.\",\n",
    "    \"The phone's display is one of the best I've seen. The colors are vibrant and the screen is bright.\",\n",
    "    \"The size of this phone is perfect for one-handed use. It's not too big or too small.\",\n",
    "    \"The camera on this phone takes amazing low light photos. I'm really happy with the quality.\",\n",
    "    \"The battery on this phone lasts all day and charges quickly. I'm never without a charged phone.\",\n",
    "    \"I'm in love with the phone's display. It's so clear and bright, even in direct sunlight.\"\n",
    "]\n",
    "\n",
    "#keys = []\n",
    "\n",
    "#for sentence in sentences:\n",
    "    #aspects = getAspectDescription(sentence)\n",
    "    #for aspect in aspects:\n",
    "        #keys.append(str(aspect['aspect']))\n",
    "#aspect_dict = {key: [] for key in keys}\n",
    "\n",
    "#for item in aspectSentiments:\n",
    "    #sentiment = item['sentiment']\n",
    "    #for aspect in aspects:\n",
    "        #if aspect not in aspect\n",
    "    \n",
    "#for key in keys:\n",
    "    #print(key)\n",
    "\n",
    "\n",
    "aspectSentiments = []\n",
    "for sentence in sentences:\n",
    "    aspects = getAspectDescription(sentence)\n",
    "    aspectSentiment = [{'aspect': aspect['aspect'], 'description': aspect['description'], 'sentiment': getSentiment(sentence)} for aspect in aspects]\n",
    "    aspectSentiments.extend(aspectSentiment)\n",
    "\n",
    "for item in aspectSentiments:\n",
    "    print(f\"Aspect: {item['aspect']}\\nDescription: {item['description']}\\nSentiment: {item['sentiment']}\\n\")\n"
   ]
  },
  {
   "cell_type": "code",
   "execution_count": 66,
   "metadata": {},
   "outputs": [],
   "source": [
    "#import json"
   ]
  },
  {
   "attachments": {},
   "cell_type": "markdown",
   "metadata": {},
   "source": [
    "Craig"
   ]
  },
  {
   "cell_type": "code",
   "execution_count": 64,
   "metadata": {},
   "outputs": [],
   "source": [
    "sentences = [\n",
    "    \"The phone has a huge display that is crystal clear. I love watching videos on it.\",\n",
    "    \"This phone is compact and fits perfectly in my pocket. The size is just right.\",\n",
    "    \"The camera on this phone is amazing. The pictures come out clear and vivid.\",\n",
    "    \"The battery life on this phone is incredible. I can go all day without needing to charge it.\",\n",
    "    \"I'm impressed with the phone's sleek design. It looks great and feels good in my hand.\",\n",
    "    \"The phone's display is one of the best I've seen. The colors are vibrant and the screen is bright.\",\n",
    "    \"The size of this phone is perfect for one-handed use. It's not too big or too small.\",\n",
    "    \"The camera on this phone takes amazing low light photos. I'm really happy with the quality.\",\n",
    "    \"The battery on this phone lasts all day and charges quickly. I'm never without a charged phone.\",\n",
    "    \"I'm in love with the phone's display. It's so clear and bright, even in direct sunlight.\"\n",
    "]\n",
    "\n",
    "#keys = []\n",
    "\n",
    "#for sentence in sentences:\n",
    "    #aspects = getAspectDescription(sentence)\n",
    "    #for aspect in aspects:\n",
    "        #keys.append(str(aspect['aspect']))\n",
    "#aspect_dict = {key: [] for key in keys}\n",
    "\n",
    "#for item in aspectSentiments:\n",
    "    #sentiment = item['sentiment']\n",
    "    #for aspect in aspects:\n",
    "        #if aspect not in aspect\n",
    "    \n",
    "#for key in keys:\n",
    "    #print(key)\n",
    "\n",
    "\n",
    "aspect_dict = {}\n",
    "aspects_arr = []\n",
    "sentiments_arr = []\n",
    "\n",
    "for item in aspectSentiments:\n",
    "    aspects_arr.append(tuple(item['aspect']))\n",
    "    sentiments_arr.append(item['sentiment'])\n",
    "\n",
    "for i in range(len(aspects_arr)):\n",
    "    aspect_dict[aspects_arr[i]] = {\n",
    "        'sentence': sentences[i], \n",
    "        'sentiment': sentiments_arr[i] \n",
    "    }\n"
   ]
  },
  {
   "cell_type": "code",
   "execution_count": 69,
   "metadata": {},
   "outputs": [
    {
     "name": "stdout",
     "output_type": "stream",
     "text": [
      "('phone',)\n",
      "{'sentence': 'The phone has a huge display that is crystal clear. I love watching videos on it.', 'sentiment': ('Postive', array([[0.59031395, 0.40968605]]))}\n",
      "('phone', 'size')\n",
      "{'sentence': 'This phone is compact and fits perfectly in my pocket. The size is just right.', 'sentiment': ('Negative', array([[0.15916132, 0.84083868]]))}\n",
      "('camera', 'pictures')\n",
      "{'sentence': 'The camera on this phone is amazing. The pictures come out clear and vivid.', 'sentiment': ('Postive', array([[0.60490228, 0.39509772]]))}\n",
      "('life',)\n",
      "{'sentence': 'The battery life on this phone is incredible. I can go all day without needing to charge it.', 'sentiment': ('Negative', array([[0.2054525, 0.7945475]]))}\n",
      "()\n",
      "{'sentence': \"I'm in love with the phone's display. It's so clear and bright, even in direct sunlight.\", 'sentiment': ('Postive', array([[0.59031395, 0.40968605]]))}\n",
      "('display', 'colors', 'screen')\n",
      "{'sentence': \"The phone's display is one of the best I've seen. The colors are vibrant and the screen is bright.\", 'sentiment': ('Negative', array([[0.51080566, 0.48919434]]))}\n",
      "('size',)\n",
      "{'sentence': \"The size of this phone is perfect for one-handed use. It's not too big or too small.\", 'sentiment': ('Negative', array([[0.26103637, 0.73896363]]))}\n",
      "('camera',)\n",
      "{'sentence': \"The camera on this phone takes amazing low light photos. I'm really happy with the quality.\", 'sentiment': ('Postive', array([[0.52485902, 0.47514098]]))}\n"
     ]
    }
   ],
   "source": [
    "#print(aspects_arr)\n",
    "#print(sentiments_arr)\n",
    "#print(description_arr)\n",
    "\n",
    "for key, value in aspect_dict.items():\n",
    "    print(key)\n",
    "    print(value)"
   ]
  }
 ],
 "metadata": {
  "kernelspec": {
   "display_name": "combinedenv",
   "language": "python",
   "name": "python3"
  },
  "language_info": {
   "codemirror_mode": {
    "name": "ipython",
    "version": 3
   },
   "file_extension": ".py",
   "mimetype": "text/x-python",
   "name": "python",
   "nbconvert_exporter": "python",
   "pygments_lexer": "ipython3",
   "version": "3.10.2"
  },
  "orig_nbformat": 4
 },
 "nbformat": 4,
 "nbformat_minor": 2
}
