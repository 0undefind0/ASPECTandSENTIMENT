{
 "cells": [
  {
   "attachments": {},
   "cell_type": "markdown",
   "metadata": {},
   "source": [
    "# FUNCTION DECLARATIONS\n",
    "\n",
    "1. [getAspectDescription](#getAspectDescription)(text: string) => [{aspect: string, description: string}]\n",
    "1. [getSentiment](#getSentiment)(raw_text: string) => (output: string, prediction: (polarity, subjectivity))"
   ]
  },
  {
   "attachments": {},
   "cell_type": "markdown",
   "metadata": {},
   "source": [
    "## getAspectDescription"
   ]
  },
  {
   "cell_type": "code",
   "execution_count": 14,
   "metadata": {},
   "outputs": [],
   "source": [
    "# %pip install spacy"
   ]
  },
  {
   "cell_type": "code",
   "execution_count": 15,
   "metadata": {},
   "outputs": [],
   "source": [
    "import spacy\n",
    "nlp = spacy.load(\"en_core_web_lg\")"
   ]
  },
  {
   "cell_type": "code",
   "execution_count": 16,
   "metadata": {},
   "outputs": [],
   "source": [
    "# getAspectDescription(text: string) => [{aspect: string, description: string}]\n",
    "\n",
    "def getAspectDescription(text):\n",
    "    \"\"\"\n",
    "    function getAspectDescription(text: string) -> [{aspect: string, description: string}]\n",
    "    \n",
    "    This function takes in a string of text and returns a list of dictionaries, each containing the aspect and its corresponding description.\n",
    "\n",
    "    Args:\n",
    "        text (str): The input text to analyze.\n",
    "\n",
    "    Returns:\n",
    "        list: A list of dictionaries, each containing the aspect and its corresponding description.\n",
    "\n",
    "    Example:\n",
    "        >>> text = \"The camera is great but the battery life is short.\"\n",
    "        >>> getAspectDescription(text)\n",
    "        [{'aspect': ['camera'], 'description': 'great'}, {'aspect': ['battery', 'life'], 'description': 'short'}]\n",
    "    \"\"\"\n",
    "    aspects = []\n",
    "\n",
    "    doc = nlp(text)\n",
    "    descriptive_term = ''\n",
    "    target = []\n",
    "    for token in doc:\n",
    "        if token.dep_ == 'nsubj' and token.pos_ == 'NOUN':\n",
    "            # target = token.text\n",
    "            target.append(token.text)\n",
    "        if token.pos_ == 'ADJ':\n",
    "            prepend = ''\n",
    "            for child in token.children:\n",
    "                if child.pos_ != 'ADV':\n",
    "                    continue\n",
    "                prepend += child.text + ' '\n",
    "            descriptive_term = f\"{prepend}\" + token.text\n",
    "\n",
    "    aspects.append({'aspect': target, 'description': descriptive_term})\n",
    "\n",
    "    return aspects\n"
   ]
  },
  {
   "cell_type": "code",
   "execution_count": 17,
   "metadata": {},
   "outputs": [
    {
     "data": {
      "text/plain": [
       "[{'aspect': ['product'], 'description': 'Poor'}]"
      ]
     },
     "execution_count": 17,
     "metadata": {},
     "output_type": "execute_result"
    }
   ],
   "source": [
    "sentences = [\n",
    "    \"The sound quality is amazing and the earphones are very comfortable to wear. I would definitely recommend this product to anyone looking for a high-quality wireless earphone.\",\n",
    "    \"These earphones are a great value for the price. They have a long battery life and the sound quality is really good. I'm very happy with my purchase.\",\n",
    "    \"I'm really impressed with these earphones. They connect to my phone really quickly and the sound quality is excellent. Plus, they're very lightweight and comfortable to wear.\",\n",
    "    \"These earphones are so convenient! I love that they're wireless and I don't have to worry about cords getting tangled. The sound quality is great too.\",\n",
    "    \"I bought these earphones for working out and they're perfect. They stay in place really well and the sound quality is really good. I would definitely recommend them to anyone looking for wireless earphones for working out.\",\n",
    "    \"These earphones are amazing! The sound quality is excellent and they're really comfortable to wear. Plus, the battery life is really impressive - I can use them for hours without having to recharge.\",\n",
    "    \"I'm really happy with these earphones. They fit my ears really well and the sound quality is excellent. Plus, they're really easy to use - I can control the volume and playback from the earphones themselves.\",\n",
    "    \"These earphones are so stylish! I love the sleek design and the sound quality is really good too. They're also really easy to pair with my phone.\",\n",
    "    \"I'm very impressed with these earphones. They have a great range and I can use them all over my house without losing connection. The sound quality is also really good.\",\n",
    "    \"These earphones are a great value for the price. They have a long battery life and the sound quality is really good. I would definitely recommend them to anyone looking for wireless earphones.\"\n",
    "]\n",
    "\n",
    "for sentence in sentences:\n",
    "    print(getAspectDescription(sentence))"
   ]
  },
  {
   "attachments": {},
   "cell_type": "markdown",
   "metadata": {},
   "source": [
    "## getSentiment"
   ]
  },
  {
   "cell_type": "code",
   "execution_count": 18,
   "metadata": {},
   "outputs": [],
   "source": [
    "# %pip install pandas\n",
    "# %pip install re\n",
    "# %pip install bs4\n",
    "# %pip install nltk\n",
    "# %pip install pickle"
   ]
  },
  {
   "cell_type": "code",
   "execution_count": 19,
   "metadata": {},
   "outputs": [],
   "source": [
    "import pandas as pd\n",
    "import re\n",
    "from bs4 import BeautifulSoup\n",
    "from nltk.corpus import stopwords\n",
    "from nltk.stem.porter import PorterStemmer\n",
    "import pickle"
   ]
  },
  {
   "cell_type": "code",
   "execution_count": 20,
   "metadata": {},
   "outputs": [],
   "source": [
    "# getSentiment(raw_text: string) => (output: string, prediction: (polarity, subjectivity))\n",
    "\n",
    "model = pickle.load(open('modelNB.pkl', 'rb'))\n",
    "\n",
    "def getSentiment(raw_text: str):\n",
    "    \"\"\"\n",
    "    function getSentiment(raw_text: string) -> (output: string, prediction: (polarity, subjectivity))\n",
    "\n",
    "    This function takes in a string of raw text and performs sentiment analysis to determine whether the text is positive or negative. It returns a tuple consisting of the sentiment label and the positive probability of the prediction.\n",
    "\n",
    "    Args:\n",
    "        raw_text (str): The raw text to analyze.\n",
    "\n",
    "    Returns:\n",
    "        tuple: A tuple consisting of the sentiment label and the positive probability of the prediction.\n",
    "\n",
    "    Example:\n",
    "        >>> raw_text = \"This product is amazing! I love it so much.\"\n",
    "        >>> getSentiment(raw_text)\n",
    "        ('Positive', 0.00819811, 0.99180189))\n",
    "    \"\"\"\n",
    "\n",
    "    # Instantiate PorterStemmer\n",
    "    p_stemmer = PorterStemmer()\n",
    "\n",
    "    # Remove HTML\n",
    "    review_text = BeautifulSoup(raw_text).get_text()\n",
    "\n",
    "    # Remove non-letters\n",
    "    letters_only = re.sub(\"[^a-zA-Z]\", \" \", review_text)\n",
    "\n",
    "    # Convert words to lower case and split each word up\n",
    "    words = letters_only.lower().split()\n",
    "\n",
    "    # Convert stopwords to a set\n",
    "    stops = set(stopwords.words('english'))\n",
    "\n",
    "    # Adding on stopwords that were appearing frequently in both positive and negative reviews\n",
    "    stops.update(['app','shopee','shoppee','item','items','seller','sellers','bad'])\n",
    "\n",
    "    # Remove stopwords\n",
    "    meaningful_words = [w for w in words if w not in stops]\n",
    "\n",
    "    # Stem words\n",
    "    meaningful_words = [p_stemmer.stem(w) for w in meaningful_words]\n",
    "\n",
    "    # Join words back into one string, with a space in between each word\n",
    "    final_text = pd.Series(\" \".join(meaningful_words))\n",
    "\n",
    "    # Generate predictions\n",
    "    pred = model.predict(final_text)[0]\n",
    "    positive_prob = model.predict_proba([pd.Series.to_string(final_text)])[0][0]\n",
    "\n",
    "\n",
    "    if pred == 1:\n",
    "        output = \"Negative\"\n",
    "    else:\n",
    "        output = \"Postive\"\n",
    "\n",
    "    return output, positive_prob\n"
   ]
  },
  {
   "cell_type": "code",
   "execution_count": 29,
   "metadata": {},
   "outputs": [],
   "source": [
    "text = 'This phone sucks it doesnt even last long!'"
   ]
  },
  {
   "cell_type": "code",
   "execution_count": 22,
   "metadata": {},
   "outputs": [],
   "source": [
    "output, proba = getSentiment(text)"
   ]
  },
  {
   "cell_type": "code",
   "execution_count": 23,
   "metadata": {},
   "outputs": [
    {
     "name": "stdout",
     "output_type": "stream",
     "text": [
      "Text: The product is strong, but it was not the right color. Poor packaging\tNegative\t0.22424745443040556\n"
     ]
    }
   ],
   "source": [
    "print(f\"Text: {text}\", output, proba, sep='\\t')"
   ]
  },
  {
   "attachments": {},
   "cell_type": "markdown",
   "metadata": {},
   "source": [
    "# Aspect Sentiment Classification"
   ]
  },
  {
   "cell_type": "code",
   "execution_count": 24,
   "metadata": {},
   "outputs": [
    {
     "name": "stdout",
     "output_type": "stream",
     "text": [
      "[{'aspect': ['food'], 'description': 'delicious', 'sentiment': ('Postive', 0.6099928109273904)}]\n"
     ]
    }
   ],
   "source": [
    "sentences = [\n",
    "    \"The sound quality is amazing and the earphones are very comfortable to wear. I would definitely recommend this product to anyone looking for a high-quality wireless earphone.\",\n",
    "    \"These earphones are a great value for the price. They have a long battery life and the sound quality is really good. I'm very happy with my purchase.\",\n",
    "    \"I'm really impressed with these earphones. They connect to my phone really quickly and the sound quality is excellent. Plus, they're very lightweight and comfortable to wear.\",\n",
    "    \"These earphones are so convenient! I love that they're wireless and I don't have to worry about cords getting tangled. The sound quality is great too.\",\n",
    "    \"I bought these earphones for working out and they're perfect. They stay in place really well and the sound quality is really good. I would definitely recommend them to anyone looking for wireless earphones for working out.\",\n",
    "    \"These earphones are amazing! The sound quality is excellent and they're really comfortable to wear. Plus, the battery life is really impressive - I can use them for hours without having to recharge.\",\n",
    "    \"I'm really happy with these earphones. They fit my ears really well and the sound quality is excellent. Plus, they're really easy to use - I can control the volume and playback from the earphones themselves.\",\n",
    "    \"These earphones are so stylish! I love the sleek design and the sound quality is really good too. They're also really easy to pair with my phone.\",\n",
    "    \"I'm very impressed with these earphones. They have a great range and I can use them all over my house without losing connection. The sound quality is also really good.\",\n",
    "    \"These earphones are a great value for the price. They have a long battery life and the sound quality is really good. I would definitely recommend them to anyone looking for wireless earphones.\"\n",
    "]\n",
    "\n",
    "aspectSentiments = []\n",
    "for sentence in sentences:\n",
    "    aspects = getAspectDescription(sentence)\n",
    "    aspectSentiment = [{'aspect': aspect['aspect'], 'description': aspect['description'], 'sentiment': getSentiment(sentence)} for aspect in aspects]\n",
    "    aspectSentiments.extend(aspectSentiment)\n",
    "\n",
    "for item in aspectSentiments:\n",
    "    print(f\"Aspect: {item['aspect']}\\nDescription: {item['description']}\\nSentiment: {item['sentiment']}\\n\")"
   ]
  },
  {
   "attachments": {},
   "cell_type": "markdown",
   "metadata": {},
   "source": [
    "# Aspect-Sentence Mapping"
   ]
  },
  {
   "cell_type": "code",
   "execution_count": 9,
   "metadata": {},
   "outputs": [
    {
     "name": "stdout",
     "output_type": "stream",
     "text": [
      "('phone',):\n",
      " - The phone has a huge display that is crystal clear. I love watching videos on it.: Postive\n",
      "('phone', 'size'):\n",
      " - This phone is compact and fits perfectly in my pocket. The size is just right.: Postive\n",
      "('camera', 'pictures'):\n",
      " - The camera on this phone is amazing. The pictures come out clear and vivid.: Postive\n",
      "('life',):\n",
      " - The battery life on this phone is incredible. I can go all day without needing to charge it.: Postive\n",
      "():\n",
      " - I'm impressed with the phone's sleek design. It looks great and feels good in my hand.: Postive\n",
      " - The battery on this phone lasts all day and charges quickly. I'm never without a charged phone.: Postive\n",
      " - I'm in love with the phone's display. It's so clear and bright, even in direct sunlight.: Postive\n",
      "('display', 'colors', 'screen'):\n",
      " - The phone's display is one of the best I've seen. The colors are vibrant and the screen is bright.: Postive\n",
      "('size',):\n",
      " - The size of this phone is perfect for one-handed use. It's not too big or too small.: Postive\n",
      "('camera',):\n",
      " - The camera on this phone takes amazing low light photos. I'm really happy with the quality.: Postive\n"
     ]
    }
   ],
   "source": [
    "sentences = [\n",
    "    \"The phone has a huge display that is crystal clear. I love watching videos on it.\",\n",
    "    \"This phone is compact and fits perfectly in my pocket. The size is just right.\",\n",
    "    \"The camera on this phone is amazing. The pictures come out clear and vivid.\",\n",
    "    \"The battery life on this phone is incredible. I can go all day without needing to charge it.\",\n",
    "    \"I'm impressed with the phone's sleek design. It looks great and feels good in my hand.\",\n",
    "    \"The phone's display is one of the best I've seen. The colors are vibrant and the screen is bright.\",\n",
    "    \"The size of this phone is perfect for one-handed use. It's not too big or too small.\",\n",
    "    \"The camera on this phone takes amazing low light photos. I'm really happy with the quality.\",\n",
    "    \"The battery on this phone lasts all day and charges quickly. I'm never without a charged phone.\",\n",
    "    \"I'm in love with the phone's display. It's so clear and bright, even in direct sunlight.\"\n",
    "]\n",
    "\n",
    "#keys = []\n",
    "\n",
    "#for sentence in sentences:\n",
    "    #aspects = getAspectDescription(sentence)\n",
    "    #for aspect in aspects:\n",
    "        #keys.append(str(aspect['aspect']))\n",
    "#aspect_dict = {key: [] for key in keys}\n",
    "\n",
    "#for item in aspectSentiments:\n",
    "    #sentiment = item['sentiment']\n",
    "    #for aspect in aspects:\n",
    "        #if aspect not in aspect\n",
    "    \n",
    "#for key in keys:\n",
    "    #print(key)\n",
    "\n",
    "\n",
    "aspect_dict = {}\n",
    "for sentence in sentences:\n",
    "    aspects = getAspectDescription(sentence)\n",
    "    for aspect in aspects:\n",
    "        aspect_name = tuple(aspect['aspect'])\n",
    "        for item in aspectSentiments:\n",
    "            sentiment = item['sentiment']\n",
    "        if aspect_name not in aspect_dict:\n",
    "            aspect_dict[aspect_name] = {}\n",
    "        aspect_dict[aspect_name][sentence] = sentiment\n",
    "\n",
    "for aspect, sentences in aspect_dict.items():\n",
    "    #num_sentences = len(sentences)\n",
    "    #total_sentiment = sum(sentences.values())\n",
    "    print(f\"{aspect}:\")\n",
    "    for sentence, sentiment in sentences.items():\n",
    "        print(f\" - {sentence}: {sentiment}\")\n"
   ]
  },
  {
   "cell_type": "code",
   "execution_count": null,
   "metadata": {},
   "outputs": [],
   "source": []
  },
  {
   "attachments": {},
   "cell_type": "markdown",
   "metadata": {},
   "source": [
    "Craig"
   ]
  },
  {
   "cell_type": "code",
   "execution_count": 27,
   "metadata": {},
   "outputs": [
    {
     "name": "stdout",
     "output_type": "stream",
     "text": [
      "('phone',):\n",
      " - The phone has a huge display that is crystal clear. I love watching videos on it.: ('Postive', 0.6099928109273904)\n",
      "('phone', 'size'):\n",
      " - This phone is compact and fits perfectly in my pocket. The size is just right.: ('Postive', 0.6099928109273904)\n",
      "('camera', 'pictures'):\n",
      " - The camera on this phone is amazing. The pictures come out clear and vivid.: ('Postive', 0.6099928109273904)\n",
      "('life',):\n",
      " - The battery life on this phone is incredible. I can go all day without needing to charge it.: ('Postive', 0.6099928109273904)\n",
      "():\n",
      " - I'm impressed with the phone's sleek design. It looks great and feels good in my hand.: ('Postive', 0.6099928109273904)\n",
      " - The battery on this phone lasts all day and charges quickly. I'm never without a charged phone.: ('Postive', 0.6099928109273904)\n",
      " - I'm in love with the phone's display. It's so clear and bright, even in direct sunlight.: ('Postive', 0.6099928109273904)\n",
      "('display', 'colors', 'screen'):\n",
      " - The phone's display is one of the best I've seen. The colors are vibrant and the screen is bright.: ('Postive', 0.6099928109273904)\n",
      "('size',):\n",
      " - The size of this phone is perfect for one-handed use. It's not too big or too small.: ('Postive', 0.6099928109273904)\n",
      "('camera',):\n",
      " - The camera on this phone takes amazing low light photos. I'm really happy with the quality.: ('Postive', 0.6099928109273904)\n"
     ]
    }
   ],
   "source": [
    "sentences = [\n",
    "    \"The phone has a huge display that is crystal clear. I love watching videos on it.\",\n",
    "    \"This phone is compact and fits perfectly in my pocket. The size is just right.\",\n",
    "    \"The camera on this phone is amazing. The pictures come out clear and vivid.\",\n",
    "    \"The battery life on this phone is incredible. I can go all day without needing to charge it.\",\n",
    "    \"I'm impressed with the phone's sleek design. It looks great and feels good in my hand.\",\n",
    "    \"The phone's display is one of the best I've seen. The colors are vibrant and the screen is bright.\",\n",
    "    \"The size of this phone is perfect for one-handed use. It's not too big or too small.\",\n",
    "    \"The camera on this phone takes amazing low light photos. I'm really happy with the quality.\",\n",
    "    \"The battery on this phone lasts all day and charges quickly. I'm never without a charged phone.\",\n",
    "    \"I'm in love with the phone's display. It's so clear and bright, even in direct sunlight.\"\n",
    "]\n",
    "\n",
    "#keys = []\n",
    "\n",
    "#for sentence in sentences:\n",
    "    #aspects = getAspectDescription(sentence)\n",
    "    #for aspect in aspects:\n",
    "        #keys.append(str(aspect['aspect']))\n",
    "#aspect_dict = {key: [] for key in keys}\n",
    "\n",
    "#for item in aspectSentiments:\n",
    "    #sentiment = item['sentiment']\n",
    "    #for aspect in aspects:\n",
    "        #if aspect not in aspect\n",
    "    \n",
    "#for key in keys:\n",
    "    #print(key)\n",
    "\n",
    "\n",
    "aspect_dict = {}\n",
    "for sentence in sentences:\n",
    "    aspects = getAspectDescription(sentence)\n",
    "    for aspect in aspects:\n",
    "        aspect_name = tuple(aspect['aspect'])\n",
    "        for item in aspectSentiment:\n",
    "            sentiment = item['sentiment']\n",
    "        if aspect_name not in aspect_dict:\n",
    "            aspect_dict[aspect_name] = {}\n",
    "        aspect_dict[aspect_name][sentence] = sentiment\n",
    "\n",
    "for aspect, sentences in aspect_dict.items():\n",
    "    print(f\"{aspect}:\")\n",
    "    for sentence, sentiment in sentences.items():\n",
    "        print(f\" - {sentence}: {sentiment}\")"
   ]
  },
  {
   "cell_type": "code",
   "execution_count": null,
   "metadata": {},
   "outputs": [],
   "source": []
  }
 ],
 "metadata": {
  "kernelspec": {
   "display_name": "combinedenv",
   "language": "python",
   "name": "python3"
  },
  "language_info": {
   "codemirror_mode": {
    "name": "ipython",
    "version": 3
   },
   "file_extension": ".py",
   "mimetype": "text/x-python",
   "name": "python",
   "nbconvert_exporter": "python",
   "pygments_lexer": "ipython3",
   "version": "3.10.2"
  },
  "orig_nbformat": 4
 },
 "nbformat": 4,
 "nbformat_minor": 2
}
