{
 "cells": [
  {
   "cell_type": "markdown",
   "metadata": {},
   "source": [
    "**Data collection**:  \n",
    "The scraping was done using [Google-Play-Scraper](https://github.com/JoMingyu/google-play-scraper) to collect users' reviews and ratings on Shopee's app. A total of 4,461 unique reviews were collected.\n",
    "\n",
    "**Data cleaning**:\n",
    "- Remove duplicated reviews\n",
    "- Remove reviews that do not have any meaningful words\n",
    "- Remove reviews that are non-English or gibberish\n",
    "\n",
    "**Pre-processing**:\n",
    "- Remove HTML tags\n",
    "- Use regular expression to remove special characters and numbers\n",
    "- Lowercase words\n",
    "- Use NLTK to remove stopwords\n",
    "- Remove frequently occurring words that appear in both positive and negative sentiments, like 'app', 'shopee', 'item', 'seller', 'bad'.\n",
    "- Use NLTK to stem words to their root form"
   ]
  },
  {
   "cell_type": "markdown",
   "metadata": {},
   "source": [
    "**Time frame of the reviews written**  \n",
    "The number of reviews for Shopee on Google Play has increased across all ratings (1-5 stars), between Jan and April 2020. This may likely be a result of the recent rise in e-commerce purchases. As the COVID-19 outbreak resulted in the forced closure of many brick-and-mortar stores during Singapore's circuit breaker period, many consumers started to turn to online shopping instead.\n",
    "\n",
    "**Number of thumbs up received**  \n",
    "Negative reviews with 1 or 2-star ratings receive more thumbs up on average, than positive reviews. This may suggest that several others face the same issues as those who have written these negative reviews.\n",
    "\n",
    "**Number of meaningful words**  \n",
    "The average number of meaningful words in a negative review (15 words) is higher than that in a positive review (7 words). There is also a noticeable higher variance in the number of meaningful words among negative reviews than positive reviews, suggesting that dissatisfied customers are more likely to write longer reviews. \n",
    "\n",
    "**Barplots: Top uni-grams and bi-grams**  \n",
    "'Use', 'time' and 'order' are the top 3 most frequently occurring uni-grams in negative reviews. 'Customer service' is the top bi-gram seen among negative reviews. We can thus infer that users are somewhat dissatisfied with Shopee's customer service.   \n",
    "\n",
    "'Good', 'shop' and 'easi' are the top 3 most frequently seen uni-grams in positive reviews. The bi-grams give us some context to the word 'easi', where it probably refers to an 'easy to use online shopping platform'.  \n",
    "\n",
    "**VADER sentiment analysis**  \n",
    "Given a compound score threshold of 0.175, VADER is able to correctly classify 80% of sentiments. As Shopee's product managers would also like to prioritise the identification of negative reviews so that they can fix immediate problems if necessary, achieving a decent recall rate is important. VADER is able to correctly classify 74% of actual negative reviews."
   ]
  },
  {
   "cell_type": "markdown",
   "metadata": {},
   "source": [
    "## Contents:\n",
    "- [Import Libraries](#Import-Libraries)\n",
    "- [Data Collection](#Data-Collection)\n",
    "- [Data Cleaning & Pre-processing](#Data-Cleaning-&-Pre-processing)\n",
    "- [Exploratory Data Analysis](#Exploratory-Data-Analysis)"
   ]
  },
  {
   "cell_type": "markdown",
   "metadata": {},
   "source": [
    "## Import Libaries"
   ]
  },
  {
   "cell_type": "code",
   "execution_count": 11,
   "metadata": {},
   "outputs": [],
   "source": [
    "# import numpy as np\n",
    "import pandas as pd\n",
    "import matplotlib.pyplot as plt\n",
    "# import seaborn as sns\n",
    "import re\n",
    "\n",
    "# Library to scrape Google Play\n",
    "# from google_play_scraper import Sort, reviews\n",
    "\n",
    "from bs4 import BeautifulSoup\n",
    "from nltk.stem.porter import PorterStemmer\n",
    "from nltk.corpus import stopwords\n",
    "from sklearn.model_selection import train_test_split\n",
    "# from sklearn.metrics import accuracy_score, confusion_matrix, classification_report\n",
    "\n",
    "%matplotlib inline"
   ]
  },
  {
   "cell_type": "markdown",
   "metadata": {},
   "source": [
    "## Data Collection"
   ]
  },
  {
   "cell_type": "markdown",
   "metadata": {},
   "source": [
    "Users can rate [Shopee's app](https://play.google.com/store/apps/details?id=com.shopee.sg&hl=en_SG) on Google Play with a star rating and review. The ratings are on a 5-point scale, with 1 being the lowest score and 5 being the highest score one could possibly give. Since the goal of our project is to predict if a review has a positive or negative sentiment based on textual data, we will scrape real user reviews on Google Play.\n",
    "\n",
    "[Google-Play-Scraper](https://github.com/JoMingyu/google-play-scraper) provides an API to crawl through Google Play. We used `pip install google-play-scraper` to install the package and scraped users' reviews and rating scores on Shopee's app.  \n",
    "\n",
    "The reviews were collected in batches, according to their scores (1-5). This was done in an attempt to achieve a balanced dataset with roughly the same number of reviews for each score. Also, in order to gather reviews that had more text and were written recently, we set up the google play scraper to scrape from both review types, 'Most relevant' and 'Newest'.\n"
   ]
  },
  {
   "cell_type": "code",
   "execution_count": 12,
   "metadata": {},
   "outputs": [],
   "source": [
    "## Commenting this out so that we don't re-run the cells and accidentally re-collect the data\n",
    "## Create an empty list to store the reviews that we are about to collect\n",
    "# app_reviews = []"
   ]
  },
  {
   "cell_type": "code",
   "execution_count": 13,
   "metadata": {},
   "outputs": [],
   "source": [
    "# # Function to scrape reviews on google play store\n",
    "# # app: the url of the app we want to scrape\n",
    "# # score: number of stars rated by users\n",
    "# # n_loops: the number of loops to collect reviews in batches of 200\n",
    "\n",
    "# def reviews_scraper(app, score, n_loops):\n",
    "#     for sort_order in [Sort.MOST_RELEVANT, Sort.NEWEST]: # Collect both reviews types - 'most relevant' and 'newest'\n",
    "#         for i in range(n_loops):\n",
    "#             rvs, continuation_token = reviews(app,\n",
    "#                                               lang='en',\n",
    "#                                               country='sg',\n",
    "#                                               sort=sort_order,\n",
    "#                                               count=200, # 200 is the maximum number of reviews per page supported by Google Play\n",
    "#                                               filter_score_with=score,\n",
    "#                                               continuation_token=None if i==0 else continuation_token) # To begin crawling from where it last left off\n",
    "#             for r in rvs:\n",
    "#                 r['sort_order'] = 'most_relevant' if sort_order == Sort.MOST_RELEVANT else 'newest'\n",
    "#                 r['app_id'] = app\n",
    "#             app_reviews.extend(rvs)\n",
    "#             print('No. of reviews collected: ' + str(len(rvs)))"
   ]
  },
  {
   "cell_type": "markdown",
   "metadata": {},
   "source": [
    "After setting up our scraping function, we will now collect the reviews in batches, based on their scores. As not many users left 2-3 star reviews on Shopee, hitting the site with more than 2 loops will return an error. Hence, `n_loops` for scores 2 and 3 star reviews were set to 2, rather than 5."
   ]
  },
  {
   "cell_type": "code",
   "execution_count": 14,
   "metadata": {},
   "outputs": [],
   "source": [
    "## Collect reviews that were rated 1 star\n",
    "# reviews_scraper(app='com.shopee.sg', score=1, n_loops=5)"
   ]
  },
  {
   "cell_type": "code",
   "execution_count": 15,
   "metadata": {},
   "outputs": [],
   "source": [
    "## Collect reviews that were rated 2 stars\n",
    "# reviews_scraper(app='com.shopee.sg', score=2, n_loops=2)"
   ]
  },
  {
   "cell_type": "code",
   "execution_count": 16,
   "metadata": {},
   "outputs": [],
   "source": [
    "## Collect reviews that were rated 3 stars\n",
    "# reviews_scraper(app='com.shopee.sg', score=3, n_loops=2)"
   ]
  },
  {
   "cell_type": "code",
   "execution_count": 17,
   "metadata": {},
   "outputs": [],
   "source": [
    "## Collect reviews that were rated 4 stars\n",
    "# reviews_scraper(app='com.shopee.sg', score=4, n_loops=5)"
   ]
  },
  {
   "cell_type": "code",
   "execution_count": 18,
   "metadata": {},
   "outputs": [],
   "source": [
    "## Collect reviews that were rated 5 stars\n",
    "# reviews_scraper(app='com.shopee.sg', score=5, n_loops=5)"
   ]
  },
  {
   "cell_type": "code",
   "execution_count": 19,
   "metadata": {},
   "outputs": [],
   "source": [
    "# # Save reviews to csv file\n",
    "# pd.DataFrame(app_reviews).to_csv('../data/shopee_reviews.csv', index=False)"
   ]
  },
  {
   "cell_type": "code",
   "execution_count": 20,
   "metadata": {},
   "outputs": [],
   "source": [
    "# Read in shopee csv file \n",
    "# Datetime parsing for 'at' and 'repliedAt' columns\n",
    "reviews = pd.read_csv('..\\SentimentModel\\shopee_reviews.csv', parse_dates=['at','repliedAt'])"
   ]
  },
  {
   "cell_type": "code",
   "execution_count": 21,
   "metadata": {},
   "outputs": [
    {
     "data": {
      "text/plain": [
       "(7600, 12)"
      ]
     },
     "execution_count": 21,
     "metadata": {},
     "output_type": "execute_result"
    }
   ],
   "source": [
    "# We have collected 7404 reviews \n",
    "reviews.shape"
   ]
  },
  {
   "cell_type": "code",
   "execution_count": 22,
   "metadata": {},
   "outputs": [
    {
     "data": {
      "text/html": [
       "<div>\n",
       "<style scoped>\n",
       "    .dataframe tbody tr th:only-of-type {\n",
       "        vertical-align: middle;\n",
       "    }\n",
       "\n",
       "    .dataframe tbody tr th {\n",
       "        vertical-align: top;\n",
       "    }\n",
       "\n",
       "    .dataframe thead th {\n",
       "        text-align: right;\n",
       "    }\n",
       "</style>\n",
       "<table border=\"1\" class=\"dataframe\">\n",
       "  <thead>\n",
       "    <tr style=\"text-align: right;\">\n",
       "      <th></th>\n",
       "      <th>reviewId</th>\n",
       "      <th>userName</th>\n",
       "      <th>userImage</th>\n",
       "      <th>content</th>\n",
       "      <th>score</th>\n",
       "      <th>thumbsUpCount</th>\n",
       "      <th>reviewCreatedVersion</th>\n",
       "      <th>at</th>\n",
       "      <th>replyContent</th>\n",
       "      <th>repliedAt</th>\n",
       "      <th>sort_order</th>\n",
       "      <th>app_id</th>\n",
       "    </tr>\n",
       "  </thead>\n",
       "  <tbody>\n",
       "    <tr>\n",
       "      <th>0</th>\n",
       "      <td>28103537-a7f2-4748-ab09-00eae61061ed</td>\n",
       "      <td>Rei Asuka</td>\n",
       "      <td>https://play-lh.googleusercontent.com/a/AGNmyx...</td>\n",
       "      <td>The app is workng fine. The issue i had was th...</td>\n",
       "      <td>1</td>\n",
       "      <td>320</td>\n",
       "      <td>2.91.31</td>\n",
       "      <td>2022-08-14 06:11:42</td>\n",
       "      <td>Thank you for bringing this issue to our atten...</td>\n",
       "      <td>2022-08-14 09:21:57</td>\n",
       "      <td>most_relevant</td>\n",
       "      <td>com.shopee.sg</td>\n",
       "    </tr>\n",
       "    <tr>\n",
       "      <th>1</th>\n",
       "      <td>89137ef2-561d-4f36-83b6-3b48cfaa8ac8</td>\n",
       "      <td>Alexander 1995</td>\n",
       "      <td>https://play-lh.googleusercontent.com/a/AGNmyx...</td>\n",
       "      <td>The issue of this rated 🌟 with genuine conside...</td>\n",
       "      <td>1</td>\n",
       "      <td>4</td>\n",
       "      <td>2.54.04</td>\n",
       "      <td>2020-08-13 20:37:40</td>\n",
       "      <td>Thank you for bringing this issue to our atten...</td>\n",
       "      <td>2020-08-13 22:16:39</td>\n",
       "      <td>most_relevant</td>\n",
       "      <td>com.shopee.sg</td>\n",
       "    </tr>\n",
       "    <tr>\n",
       "      <th>2</th>\n",
       "      <td>c9b45b86-2e35-4ab2-9b27-152881c4e4ff</td>\n",
       "      <td>Jaymes Chiang</td>\n",
       "      <td>https://play-lh.googleusercontent.com/a/AGNmyx...</td>\n",
       "      <td>Latest version of the app keeps crashing whene...</td>\n",
       "      <td>1</td>\n",
       "      <td>22</td>\n",
       "      <td>NaN</td>\n",
       "      <td>2022-03-02 00:10:18</td>\n",
       "      <td>NaN</td>\n",
       "      <td>NaT</td>\n",
       "      <td>most_relevant</td>\n",
       "      <td>com.shopee.sg</td>\n",
       "    </tr>\n",
       "    <tr>\n",
       "      <th>3</th>\n",
       "      <td>31d98c71-a1d2-4f7a-b4c8-f3cc1d7922f3</td>\n",
       "      <td>A Google user</td>\n",
       "      <td>https://play-lh.googleusercontent.com/EGemoI2N...</td>\n",
       "      <td>Payment page is such a disaster. Full of verif...</td>\n",
       "      <td>1</td>\n",
       "      <td>22</td>\n",
       "      <td>NaN</td>\n",
       "      <td>2019-10-29 23:45:11</td>\n",
       "      <td>Hey,\\r\\n\\r\\nThank you for the review.\\r\\n\\r\\nW...</td>\n",
       "      <td>2019-10-30 09:45:11</td>\n",
       "      <td>most_relevant</td>\n",
       "      <td>com.shopee.sg</td>\n",
       "    </tr>\n",
       "    <tr>\n",
       "      <th>4</th>\n",
       "      <td>28430f95-0409-429c-ad10-e12a08be6c24</td>\n",
       "      <td>A Google user</td>\n",
       "      <td>https://play-lh.googleusercontent.com/EGemoI2N...</td>\n",
       "      <td>Be very careful when you use this platform. Ma...</td>\n",
       "      <td>1</td>\n",
       "      <td>9</td>\n",
       "      <td>2.23.31</td>\n",
       "      <td>2018-12-06 14:43:45</td>\n",
       "      <td>Hi Royis! We're so sorry for the unpleasant ex...</td>\n",
       "      <td>2018-12-06 22:16:34</td>\n",
       "      <td>most_relevant</td>\n",
       "      <td>com.shopee.sg</td>\n",
       "    </tr>\n",
       "  </tbody>\n",
       "</table>\n",
       "</div>"
      ],
      "text/plain": [
       "                               reviewId        userName   \n",
       "0  28103537-a7f2-4748-ab09-00eae61061ed       Rei Asuka  \\\n",
       "1  89137ef2-561d-4f36-83b6-3b48cfaa8ac8  Alexander 1995   \n",
       "2  c9b45b86-2e35-4ab2-9b27-152881c4e4ff   Jaymes Chiang   \n",
       "3  31d98c71-a1d2-4f7a-b4c8-f3cc1d7922f3   A Google user   \n",
       "4  28430f95-0409-429c-ad10-e12a08be6c24   A Google user   \n",
       "\n",
       "                                           userImage   \n",
       "0  https://play-lh.googleusercontent.com/a/AGNmyx...  \\\n",
       "1  https://play-lh.googleusercontent.com/a/AGNmyx...   \n",
       "2  https://play-lh.googleusercontent.com/a/AGNmyx...   \n",
       "3  https://play-lh.googleusercontent.com/EGemoI2N...   \n",
       "4  https://play-lh.googleusercontent.com/EGemoI2N...   \n",
       "\n",
       "                                             content  score  thumbsUpCount   \n",
       "0  The app is workng fine. The issue i had was th...      1            320  \\\n",
       "1  The issue of this rated 🌟 with genuine conside...      1              4   \n",
       "2  Latest version of the app keeps crashing whene...      1             22   \n",
       "3  Payment page is such a disaster. Full of verif...      1             22   \n",
       "4  Be very careful when you use this platform. Ma...      1              9   \n",
       "\n",
       "  reviewCreatedVersion                  at   \n",
       "0              2.91.31 2022-08-14 06:11:42  \\\n",
       "1              2.54.04 2020-08-13 20:37:40   \n",
       "2                  NaN 2022-03-02 00:10:18   \n",
       "3                  NaN 2019-10-29 23:45:11   \n",
       "4              2.23.31 2018-12-06 14:43:45   \n",
       "\n",
       "                                        replyContent           repliedAt   \n",
       "0  Thank you for bringing this issue to our atten... 2022-08-14 09:21:57  \\\n",
       "1  Thank you for bringing this issue to our atten... 2020-08-13 22:16:39   \n",
       "2                                                NaN                 NaT   \n",
       "3  Hey,\\r\\n\\r\\nThank you for the review.\\r\\n\\r\\nW... 2019-10-30 09:45:11   \n",
       "4  Hi Royis! We're so sorry for the unpleasant ex... 2018-12-06 22:16:34   \n",
       "\n",
       "      sort_order         app_id  \n",
       "0  most_relevant  com.shopee.sg  \n",
       "1  most_relevant  com.shopee.sg  \n",
       "2  most_relevant  com.shopee.sg  \n",
       "3  most_relevant  com.shopee.sg  \n",
       "4  most_relevant  com.shopee.sg  "
      ]
     },
     "execution_count": 22,
     "metadata": {},
     "output_type": "execute_result"
    }
   ],
   "source": [
    "# View first 5 rows\n",
    "reviews.head()"
   ]
  },
  {
   "cell_type": "code",
   "execution_count": 23,
   "metadata": {},
   "outputs": [
    {
     "name": "stdout",
     "output_type": "stream",
     "text": [
      "<class 'pandas.core.frame.DataFrame'>\n",
      "RangeIndex: 7600 entries, 0 to 7599\n",
      "Data columns (total 12 columns):\n",
      " #   Column                Non-Null Count  Dtype         \n",
      "---  ------                --------------  -----         \n",
      " 0   reviewId              7600 non-null   object        \n",
      " 1   userName              7600 non-null   object        \n",
      " 2   userImage             7600 non-null   object        \n",
      " 3   content               7600 non-null   object        \n",
      " 4   score                 7600 non-null   int64         \n",
      " 5   thumbsUpCount         7600 non-null   int64         \n",
      " 6   reviewCreatedVersion  6948 non-null   object        \n",
      " 7   at                    7600 non-null   datetime64[ns]\n",
      " 8   replyContent          6468 non-null   object        \n",
      " 9   repliedAt             6468 non-null   datetime64[ns]\n",
      " 10  sort_order            7600 non-null   object        \n",
      " 11  app_id                7600 non-null   object        \n",
      "dtypes: datetime64[ns](2), int64(2), object(8)\n",
      "memory usage: 712.6+ KB\n"
     ]
    }
   ],
   "source": [
    "# Check that the datatypes are correct eg. 'at' and 'repliedAt' are datetime\n",
    "reviews.info()"
   ]
  },
  {
   "cell_type": "code",
   "execution_count": 24,
   "metadata": {},
   "outputs": [
    {
     "data": {
      "text/plain": [
       "reviewId                   0\n",
       "userName                   0\n",
       "userImage                  0\n",
       "content                    0\n",
       "score                      0\n",
       "thumbsUpCount              0\n",
       "reviewCreatedVersion     652\n",
       "at                         0\n",
       "replyContent            1132\n",
       "repliedAt               1132\n",
       "sort_order                 0\n",
       "app_id                     0\n",
       "dtype: int64"
      ]
     },
     "execution_count": 24,
     "metadata": {},
     "output_type": "execute_result"
    }
   ],
   "source": [
    "# Some null values in app version & developer replies\n",
    "reviews.isnull().sum()"
   ]
  },
  {
   "cell_type": "code",
   "execution_count": 25,
   "metadata": {},
   "outputs": [
    {
     "data": {
      "text/html": [
       "<div>\n",
       "<style scoped>\n",
       "    .dataframe tbody tr th:only-of-type {\n",
       "        vertical-align: middle;\n",
       "    }\n",
       "\n",
       "    .dataframe tbody tr th {\n",
       "        vertical-align: top;\n",
       "    }\n",
       "\n",
       "    .dataframe thead th {\n",
       "        text-align: right;\n",
       "    }\n",
       "</style>\n",
       "<table border=\"1\" class=\"dataframe\">\n",
       "  <thead>\n",
       "    <tr style=\"text-align: right;\">\n",
       "      <th></th>\n",
       "      <th>score</th>\n",
       "      <th>thumbsUpCount</th>\n",
       "      <th>at</th>\n",
       "      <th>repliedAt</th>\n",
       "    </tr>\n",
       "  </thead>\n",
       "  <tbody>\n",
       "    <tr>\n",
       "      <th>count</th>\n",
       "      <td>7600.000000</td>\n",
       "      <td>7600.000000</td>\n",
       "      <td>7600</td>\n",
       "      <td>6468</td>\n",
       "    </tr>\n",
       "    <tr>\n",
       "      <th>mean</th>\n",
       "      <td>3.157895</td>\n",
       "      <td>5.046579</td>\n",
       "      <td>2021-08-06 04:36:43.404210432</td>\n",
       "      <td>2021-09-12 08:57:26.810141952</td>\n",
       "    </tr>\n",
       "    <tr>\n",
       "      <th>min</th>\n",
       "      <td>1.000000</td>\n",
       "      <td>0.000000</td>\n",
       "      <td>2018-09-13 15:34:41</td>\n",
       "      <td>2018-09-13 16:35:05</td>\n",
       "    </tr>\n",
       "    <tr>\n",
       "      <th>25%</th>\n",
       "      <td>1.000000</td>\n",
       "      <td>0.000000</td>\n",
       "      <td>2020-08-05 21:24:52</td>\n",
       "      <td>2020-09-05 21:19:48</td>\n",
       "    </tr>\n",
       "    <tr>\n",
       "      <th>50%</th>\n",
       "      <td>4.000000</td>\n",
       "      <td>1.000000</td>\n",
       "      <td>2021-08-12 02:46:06</td>\n",
       "      <td>2021-10-17 10:05:44</td>\n",
       "    </tr>\n",
       "    <tr>\n",
       "      <th>75%</th>\n",
       "      <td>5.000000</td>\n",
       "      <td>3.000000</td>\n",
       "      <td>2022-10-09 06:00:56.249999872</td>\n",
       "      <td>2022-10-30 14:33:54</td>\n",
       "    </tr>\n",
       "    <tr>\n",
       "      <th>max</th>\n",
       "      <td>5.000000</td>\n",
       "      <td>405.000000</td>\n",
       "      <td>2023-04-08 19:32:15</td>\n",
       "      <td>2023-04-09 09:59:44</td>\n",
       "    </tr>\n",
       "    <tr>\n",
       "      <th>std</th>\n",
       "      <td>1.564952</td>\n",
       "      <td>18.131879</td>\n",
       "      <td>NaN</td>\n",
       "      <td>NaN</td>\n",
       "    </tr>\n",
       "  </tbody>\n",
       "</table>\n",
       "</div>"
      ],
      "text/plain": [
       "             score  thumbsUpCount                             at   \n",
       "count  7600.000000    7600.000000                           7600  \\\n",
       "mean      3.157895       5.046579  2021-08-06 04:36:43.404210432   \n",
       "min       1.000000       0.000000            2018-09-13 15:34:41   \n",
       "25%       1.000000       0.000000            2020-08-05 21:24:52   \n",
       "50%       4.000000       1.000000            2021-08-12 02:46:06   \n",
       "75%       5.000000       3.000000  2022-10-09 06:00:56.249999872   \n",
       "max       5.000000     405.000000            2023-04-08 19:32:15   \n",
       "std       1.564952      18.131879                            NaN   \n",
       "\n",
       "                           repliedAt  \n",
       "count                           6468  \n",
       "mean   2021-09-12 08:57:26.810141952  \n",
       "min              2018-09-13 16:35:05  \n",
       "25%              2020-09-05 21:19:48  \n",
       "50%              2021-10-17 10:05:44  \n",
       "75%              2022-10-30 14:33:54  \n",
       "max              2023-04-09 09:59:44  \n",
       "std                              NaN  "
      ]
     },
     "execution_count": 25,
     "metadata": {},
     "output_type": "execute_result"
    }
   ],
   "source": [
    "# Summary statistics for numerical variables\n",
    "reviews.describe()"
   ]
  },
  {
   "cell_type": "code",
   "execution_count": 26,
   "metadata": {},
   "outputs": [
    {
     "data": {
      "text/plain": [
       "score\n",
       "1    2000\n",
       "2     800\n",
       "3     800\n",
       "4    2000\n",
       "5    2000\n",
       "Name: count, dtype: int64"
      ]
     },
     "execution_count": 26,
     "metadata": {},
     "output_type": "execute_result"
    }
   ],
   "source": [
    "# Check how many reviews were retrieved from each score\n",
    "reviews['score'].value_counts().sort_index()"
   ]
  },
  {
   "cell_type": "markdown",
   "metadata": {},
   "source": [
    "## Data Dictionary"
   ]
  },
  {
   "cell_type": "markdown",
   "metadata": {},
   "source": [
    "The data dictionary below provides an overview of the features in our dataset."
   ]
  },
  {
   "cell_type": "markdown",
   "metadata": {},
   "source": [
    "| Feature              | Type     | Description                                                                                        |\n",
    "|:----------------------|:----------|:----------------------------------------------------------------------------------------------------|\n",
    "| reviewId             | obj      | Unique review Id                                                                                   |\n",
    "| userName             | obj      | Username of the reviewer                                                                           |\n",
    "| userImage            | obj      | Url link to the user's profile photo                                                                         |\n",
    "| content              | obj      | Textual data of the review                                                                         |\n",
    "| score                | int      | No. of star ratings the user gave (1-5)                                                                  |\n",
    "| thumbsUpCount        | int      | No. of thumbs up the review received from other users                                              |\n",
    "| reviewCreatedVersion | obj      | App version                                                                                        |\n",
    "| at                   | datetime | Date and time of which the review was written                                                      |\n",
    "| replyContent         | obj      | Shopee's reply to the review                                                                       |\n",
    "| repliedAt            | datetime | Date and time of Shopee's reply                                                                    |\n",
    "| sort_order           | obj      | Indicates whether the data was scraped from the 'Most relevant' or 'Newest' section in Google Play |\n",
    "| app_id               | obj      | The url which the reviews were collected from                                                      |"
   ]
  },
  {
   "cell_type": "markdown",
   "metadata": {},
   "source": [
    "## Data Cleaning & Pre-processing"
   ]
  },
  {
   "cell_type": "markdown",
   "metadata": {},
   "source": [
    "### Remove duplicated reviews"
   ]
  },
  {
   "cell_type": "markdown",
   "metadata": {},
   "source": [
    "As we have scraped reviews that were sorted by 'Most relevant' and 'Newest', there will definitely be duplicates in our dataset. We will be dropping these duplicates to ensure that we train and test our model on unique reviews."
   ]
  },
  {
   "cell_type": "code",
   "execution_count": 27,
   "metadata": {},
   "outputs": [
    {
     "data": {
      "text/plain": [
       "(7600, 12)"
      ]
     },
     "execution_count": 27,
     "metadata": {},
     "output_type": "execute_result"
    }
   ],
   "source": [
    "# 7404 reviews in our dataframe\n",
    "reviews.shape"
   ]
  },
  {
   "cell_type": "code",
   "execution_count": 28,
   "metadata": {},
   "outputs": [
    {
     "data": {
      "text/plain": [
       "(3800, 12)"
      ]
     },
     "execution_count": 28,
     "metadata": {},
     "output_type": "execute_result"
    }
   ],
   "source": [
    "# There are 2943 duplicates\n",
    "reviews[reviews.duplicated(['userName', 'content', 'at'])].shape"
   ]
  },
  {
   "cell_type": "code",
   "execution_count": 29,
   "metadata": {},
   "outputs": [
    {
     "data": {
      "text/plain": [
       "1000    The app is workng fine. The issue i had was th...\n",
       "1001    The issue of this rated 🌟 with genuine conside...\n",
       "1002    Latest version of the app keeps crashing whene...\n",
       "1003    Payment page is such a disaster. Full of verif...\n",
       "1004    Be very careful when you use this platform. Ma...\n",
       "                              ...                        \n",
       "7595    Sellers are all very friendly, app will always...\n",
       "7596    Can get very cheap price compared to buy from ...\n",
       "7597    Fast service, low shipping fees, highly recomm...\n",
       "7598    Quite a good application. Have lots of items f...\n",
       "7599    It is recommended app / platform to use Shopee...\n",
       "Name: content, Length: 3800, dtype: object"
      ]
     },
     "execution_count": 29,
     "metadata": {},
     "output_type": "execute_result"
    }
   ],
   "source": [
    "reviews[reviews.duplicated(['userName', 'content', 'at'])]['content']"
   ]
  },
  {
   "cell_type": "code",
   "execution_count": 30,
   "metadata": {},
   "outputs": [],
   "source": [
    "# Drop duplicates as we only want unique reviews\n",
    "reviews.drop_duplicates(['userName', 'content', 'at'], inplace=True)"
   ]
  },
  {
   "cell_type": "code",
   "execution_count": 31,
   "metadata": {},
   "outputs": [],
   "source": [
    "# Reindex the dataframe\n",
    "reviews.reset_index(drop=True, inplace=True)"
   ]
  },
  {
   "cell_type": "code",
   "execution_count": 32,
   "metadata": {},
   "outputs": [
    {
     "data": {
      "text/plain": [
       "(3800, 12)"
      ]
     },
     "execution_count": 32,
     "metadata": {},
     "output_type": "execute_result"
    }
   ],
   "source": [
    "# Check that we have dropped these duplicates\n",
    "reviews.shape"
   ]
  },
  {
   "cell_type": "code",
   "execution_count": 33,
   "metadata": {},
   "outputs": [
    {
     "data": {
      "text/plain": [
       "score\n",
       "1    1000\n",
       "2     400\n",
       "3     400\n",
       "4    1000\n",
       "5    1000\n",
       "Name: count, dtype: int64"
      ]
     },
     "execution_count": 33,
     "metadata": {},
     "output_type": "execute_result"
    }
   ],
   "source": [
    "# Check how many reviews we have for each score after dropping the duplicates\n",
    "reviews['score'].value_counts().sort_index()"
   ]
  },
  {
   "cell_type": "markdown",
   "metadata": {},
   "source": [
    "### Rename columns"
   ]
  },
  {
   "cell_type": "markdown",
   "metadata": {},
   "source": [
    "It is good practice to use snake case when naming our columns."
   ]
  },
  {
   "cell_type": "code",
   "execution_count": 34,
   "metadata": {},
   "outputs": [],
   "source": [
    "# Rename the columns to lowercase and use underscores\n",
    "reviews.rename(columns={'reviewId': 'review_id', \n",
    "                        'userName': 'username', \n",
    "                        'userImage': 'user_image', \n",
    "                        'thumbsUpCount': 'thumbs_up_count', \n",
    "                        'reviewCreatedVersion': 'review_created_version', \n",
    "                        'replyContent': 'reply_content',\n",
    "                        'repliedAt': 'replied_at'},\n",
    "                inplace=True) "
   ]
  },
  {
   "cell_type": "code",
   "execution_count": 35,
   "metadata": {
    "scrolled": true
   },
   "outputs": [
    {
     "data": {
      "text/plain": [
       "Index(['review_id', 'username', 'user_image', 'content', 'score',\n",
       "       'thumbs_up_count', 'review_created_version', 'at', 'reply_content',\n",
       "       'replied_at', 'sort_order', 'app_id'],\n",
       "      dtype='object')"
      ]
     },
     "execution_count": 35,
     "metadata": {},
     "output_type": "execute_result"
    }
   ],
   "source": [
    "# Check that columns have been correctly renamed\n",
    "reviews.columns"
   ]
  },
  {
   "cell_type": "markdown",
   "metadata": {},
   "source": [
    "### Create a target variable"
   ]
  },
  {
   "cell_type": "markdown",
   "metadata": {},
   "source": [
    "The goal is to classify positive and negative app reviews. Negative reviews can reveal critical features that are missing from Shopee's app or even bring to light the presence of bugs on the app. This will require immediate action from Shopee. As such, priority will be placed on the prediction of negative sentiment. We will assign the negative reviews (scores 1-3) to class 1, and the positive reviews (scores 4-5) to class 0."
   ]
  },
  {
   "cell_type": "code",
   "execution_count": 36,
   "metadata": {},
   "outputs": [],
   "source": [
    "# Defining the target variable using scores\n",
    "reviews['target'] = reviews['score'].map(lambda x: 1 if x < 4 else 0)"
   ]
  },
  {
   "cell_type": "code",
   "execution_count": 37,
   "metadata": {},
   "outputs": [
    {
     "data": {
      "text/plain": [
       "target\n",
       "0    2000\n",
       "1    1800\n",
       "Name: count, dtype: int64"
      ]
     },
     "execution_count": 37,
     "metadata": {},
     "output_type": "execute_result"
    }
   ],
   "source": [
    "# Check the count of our target variable\n",
    "reviews['target'].value_counts()"
   ]
  },
  {
   "cell_type": "code",
   "execution_count": 38,
   "metadata": {
    "scrolled": false
   },
   "outputs": [
    {
     "data": {
      "text/html": [
       "<div>\n",
       "<style scoped>\n",
       "    .dataframe tbody tr th:only-of-type {\n",
       "        vertical-align: middle;\n",
       "    }\n",
       "\n",
       "    .dataframe tbody tr th {\n",
       "        vertical-align: top;\n",
       "    }\n",
       "\n",
       "    .dataframe thead th {\n",
       "        text-align: right;\n",
       "    }\n",
       "</style>\n",
       "<table border=\"1\" class=\"dataframe\">\n",
       "  <thead>\n",
       "    <tr style=\"text-align: right;\">\n",
       "      <th></th>\n",
       "      <th>review_id</th>\n",
       "      <th>username</th>\n",
       "      <th>user_image</th>\n",
       "      <th>content</th>\n",
       "      <th>score</th>\n",
       "      <th>thumbs_up_count</th>\n",
       "      <th>review_created_version</th>\n",
       "      <th>at</th>\n",
       "      <th>reply_content</th>\n",
       "      <th>replied_at</th>\n",
       "      <th>sort_order</th>\n",
       "      <th>app_id</th>\n",
       "      <th>target</th>\n",
       "    </tr>\n",
       "  </thead>\n",
       "  <tbody>\n",
       "    <tr>\n",
       "      <th>0</th>\n",
       "      <td>28103537-a7f2-4748-ab09-00eae61061ed</td>\n",
       "      <td>Rei Asuka</td>\n",
       "      <td>https://play-lh.googleusercontent.com/a/AGNmyx...</td>\n",
       "      <td>The app is workng fine. The issue i had was th...</td>\n",
       "      <td>1</td>\n",
       "      <td>320</td>\n",
       "      <td>2.91.31</td>\n",
       "      <td>2022-08-14 06:11:42</td>\n",
       "      <td>Thank you for bringing this issue to our atten...</td>\n",
       "      <td>2022-08-14 09:21:57</td>\n",
       "      <td>most_relevant</td>\n",
       "      <td>com.shopee.sg</td>\n",
       "      <td>1</td>\n",
       "    </tr>\n",
       "    <tr>\n",
       "      <th>1</th>\n",
       "      <td>89137ef2-561d-4f36-83b6-3b48cfaa8ac8</td>\n",
       "      <td>Alexander 1995</td>\n",
       "      <td>https://play-lh.googleusercontent.com/a/AGNmyx...</td>\n",
       "      <td>The issue of this rated 🌟 with genuine conside...</td>\n",
       "      <td>1</td>\n",
       "      <td>4</td>\n",
       "      <td>2.54.04</td>\n",
       "      <td>2020-08-13 20:37:40</td>\n",
       "      <td>Thank you for bringing this issue to our atten...</td>\n",
       "      <td>2020-08-13 22:16:39</td>\n",
       "      <td>most_relevant</td>\n",
       "      <td>com.shopee.sg</td>\n",
       "      <td>1</td>\n",
       "    </tr>\n",
       "    <tr>\n",
       "      <th>2</th>\n",
       "      <td>c9b45b86-2e35-4ab2-9b27-152881c4e4ff</td>\n",
       "      <td>Jaymes Chiang</td>\n",
       "      <td>https://play-lh.googleusercontent.com/a/AGNmyx...</td>\n",
       "      <td>Latest version of the app keeps crashing whene...</td>\n",
       "      <td>1</td>\n",
       "      <td>22</td>\n",
       "      <td>NaN</td>\n",
       "      <td>2022-03-02 00:10:18</td>\n",
       "      <td>NaN</td>\n",
       "      <td>NaT</td>\n",
       "      <td>most_relevant</td>\n",
       "      <td>com.shopee.sg</td>\n",
       "      <td>1</td>\n",
       "    </tr>\n",
       "    <tr>\n",
       "      <th>3</th>\n",
       "      <td>31d98c71-a1d2-4f7a-b4c8-f3cc1d7922f3</td>\n",
       "      <td>A Google user</td>\n",
       "      <td>https://play-lh.googleusercontent.com/EGemoI2N...</td>\n",
       "      <td>Payment page is such a disaster. Full of verif...</td>\n",
       "      <td>1</td>\n",
       "      <td>22</td>\n",
       "      <td>NaN</td>\n",
       "      <td>2019-10-29 23:45:11</td>\n",
       "      <td>Hey,\\r\\n\\r\\nThank you for the review.\\r\\n\\r\\nW...</td>\n",
       "      <td>2019-10-30 09:45:11</td>\n",
       "      <td>most_relevant</td>\n",
       "      <td>com.shopee.sg</td>\n",
       "      <td>1</td>\n",
       "    </tr>\n",
       "    <tr>\n",
       "      <th>4</th>\n",
       "      <td>28430f95-0409-429c-ad10-e12a08be6c24</td>\n",
       "      <td>A Google user</td>\n",
       "      <td>https://play-lh.googleusercontent.com/EGemoI2N...</td>\n",
       "      <td>Be very careful when you use this platform. Ma...</td>\n",
       "      <td>1</td>\n",
       "      <td>9</td>\n",
       "      <td>2.23.31</td>\n",
       "      <td>2018-12-06 14:43:45</td>\n",
       "      <td>Hi Royis! We're so sorry for the unpleasant ex...</td>\n",
       "      <td>2018-12-06 22:16:34</td>\n",
       "      <td>most_relevant</td>\n",
       "      <td>com.shopee.sg</td>\n",
       "      <td>1</td>\n",
       "    </tr>\n",
       "  </tbody>\n",
       "</table>\n",
       "</div>"
      ],
      "text/plain": [
       "                              review_id        username   \n",
       "0  28103537-a7f2-4748-ab09-00eae61061ed       Rei Asuka  \\\n",
       "1  89137ef2-561d-4f36-83b6-3b48cfaa8ac8  Alexander 1995   \n",
       "2  c9b45b86-2e35-4ab2-9b27-152881c4e4ff   Jaymes Chiang   \n",
       "3  31d98c71-a1d2-4f7a-b4c8-f3cc1d7922f3   A Google user   \n",
       "4  28430f95-0409-429c-ad10-e12a08be6c24   A Google user   \n",
       "\n",
       "                                          user_image   \n",
       "0  https://play-lh.googleusercontent.com/a/AGNmyx...  \\\n",
       "1  https://play-lh.googleusercontent.com/a/AGNmyx...   \n",
       "2  https://play-lh.googleusercontent.com/a/AGNmyx...   \n",
       "3  https://play-lh.googleusercontent.com/EGemoI2N...   \n",
       "4  https://play-lh.googleusercontent.com/EGemoI2N...   \n",
       "\n",
       "                                             content  score  thumbs_up_count   \n",
       "0  The app is workng fine. The issue i had was th...      1              320  \\\n",
       "1  The issue of this rated 🌟 with genuine conside...      1                4   \n",
       "2  Latest version of the app keeps crashing whene...      1               22   \n",
       "3  Payment page is such a disaster. Full of verif...      1               22   \n",
       "4  Be very careful when you use this platform. Ma...      1                9   \n",
       "\n",
       "  review_created_version                  at   \n",
       "0                2.91.31 2022-08-14 06:11:42  \\\n",
       "1                2.54.04 2020-08-13 20:37:40   \n",
       "2                    NaN 2022-03-02 00:10:18   \n",
       "3                    NaN 2019-10-29 23:45:11   \n",
       "4                2.23.31 2018-12-06 14:43:45   \n",
       "\n",
       "                                       reply_content          replied_at   \n",
       "0  Thank you for bringing this issue to our atten... 2022-08-14 09:21:57  \\\n",
       "1  Thank you for bringing this issue to our atten... 2020-08-13 22:16:39   \n",
       "2                                                NaN                 NaT   \n",
       "3  Hey,\\r\\n\\r\\nThank you for the review.\\r\\n\\r\\nW... 2019-10-30 09:45:11   \n",
       "4  Hi Royis! We're so sorry for the unpleasant ex... 2018-12-06 22:16:34   \n",
       "\n",
       "      sort_order         app_id  target  \n",
       "0  most_relevant  com.shopee.sg       1  \n",
       "1  most_relevant  com.shopee.sg       1  \n",
       "2  most_relevant  com.shopee.sg       1  \n",
       "3  most_relevant  com.shopee.sg       1  \n",
       "4  most_relevant  com.shopee.sg       1  "
      ]
     },
     "execution_count": 38,
     "metadata": {},
     "output_type": "execute_result"
    }
   ],
   "source": [
    "# Check that the target variable has been added to our dataframe\n",
    "reviews.head()"
   ]
  },
  {
   "cell_type": "markdown",
   "metadata": {},
   "source": [
    "### Pre-processing"
   ]
  },
  {
   "cell_type": "markdown",
   "metadata": {},
   "source": [
    "Next, we will perform pre-processing to transform our text into a more digestible form for our classifier. The steps are as follows:\n",
    "- Remove HTML tags\n",
    "- Use regular expression to remove special characters and numbers\n",
    "- Lowercase words\n",
    "- Use NLTK to remove stopwords\n",
    "- Remove frequently occurring words that appear in both positive and negative sentiments, like 'app', 'shopee', 'item', 'seller', 'bad'. Removing these words led to a 1 and 2 percentage point improvement in our model's accuracy and recall rate, respectively.\n",
    "- Use NLTK to stem words to their root form. Note that the model returned better accuracy when we used stemming, rather than lemmatizing.\n",
    "\n",
    "It is also good to note that we have tried using SpaCy to remove stopwords and for lemmatizing. However, our model's performance was much better when the text was pre-processed using NLTK."
   ]
  },
  {
   "cell_type": "code",
   "execution_count": 39,
   "metadata": {},
   "outputs": [],
   "source": [
    "# Write a function to convert raw text to a string of meaningful words\n",
    "def stem_text(raw_text):\n",
    "    \n",
    "    # Remove HTML tags\n",
    "    review_text = BeautifulSoup(raw_text).get_text()\n",
    "    \n",
    "    # Remove non-letters\n",
    "    letters_only = re.sub(\"[^a-zA-Z]\", \" \", review_text)\n",
    "    \n",
    "    # Convert words to lower case and split each word up\n",
    "    words = letters_only.lower().split()\n",
    "    \n",
    "    # Searching through a set is faster than searching through a list \n",
    "    # Hence, we will convert stopwords to a set\n",
    "    stops = set(stopwords.words('english'))\n",
    "    \n",
    "    # Adding on stopwords that were appearing frequently in both positive and negative reviews \n",
    "    stops.update(['app','shopee','shoppee','item','items','seller','sellers','bad']) \n",
    "    \n",
    "    # Remove stopwords\n",
    "    meaningful_words = [w for w in words if w not in stops]\n",
    "        \n",
    "    # Instantiate PorterStemmer\n",
    "    p_stemmer = PorterStemmer()\n",
    "    \n",
    "    # Stem words\n",
    "    meaningful_words = [p_stemmer.stem(w) for w in meaningful_words]        \n",
    "    \n",
    "    # Join words back into one string, with a space in between each word\n",
    "    return(\" \".join(meaningful_words))"
   ]
  },
  {
   "cell_type": "code",
   "execution_count": 40,
   "metadata": {},
   "outputs": [
    {
     "name": "stderr",
     "output_type": "stream",
     "text": [
      "C:\\Users\\steam\\AppData\\Local\\Temp\\ipykernel_18244\\245206700.py:5: MarkupResemblesLocatorWarning: The input looks more like a filename than markup. You may want to open this file and pass the filehandle into Beautiful Soup.\n",
      "  review_text = BeautifulSoup(raw_text).get_text()\n"
     ]
    }
   ],
   "source": [
    "# Pre-process the raw text\n",
    "reviews['content_stem'] = reviews['content'].map(stem_text)"
   ]
  },
  {
   "cell_type": "markdown",
   "metadata": {},
   "source": [
    "Let us compare our original text with the pre-processed version."
   ]
  },
  {
   "cell_type": "code",
   "execution_count": 41,
   "metadata": {},
   "outputs": [
    {
     "data": {
      "text/plain": [
       "\"The app is workng fine. The issue i had was the shopee pet game. 1) Half the time, it will get stuck at 99% loading. 2) 20% of the time, it will not be able to connect to server after you completeed the music minigame and have to replay the minigame again. 3) Worst of all is the soccer minigame. Even if the goalie is at one end of the goal, it can still block the ball at the other end, making it totally based on luck. Sometimes, it doesn't even need to touch the ball to block it.\""
      ]
     },
     "execution_count": 41,
     "metadata": {},
     "output_type": "execute_result"
    }
   ],
   "source": [
    "# This is the original text of the first review in our dataset\n",
    "reviews.loc[0]['content']"
   ]
  },
  {
   "cell_type": "code",
   "execution_count": 42,
   "metadata": {},
   "outputs": [
    {
     "data": {
      "text/plain": [
       "'workng fine issu pet game half time get stuck load time abl connect server complete music minigam replay minigam worst soccer minigam even goali one end goal still block ball end make total base luck sometim even need touch ball block'"
      ]
     },
     "execution_count": 42,
     "metadata": {},
     "output_type": "execute_result"
    }
   ],
   "source": [
    "# This is how the text looks like after stemming\n",
    "reviews.loc[0]['content_stem']"
   ]
  },
  {
   "cell_type": "markdown",
   "metadata": {},
   "source": [
    "### Remove reviews that do not have any meaningful words"
   ]
  },
  {
   "cell_type": "markdown",
   "metadata": {},
   "source": [
    "After pre-processing, we notice that there are some reviews that do not have any meaningful words left. As these reviews largely consists of only emojis or Chinese characters, these reviews returned blank fields after stemming. In other words, the length of these reviews after pre-processing, was 0. Given that these reviews will not add value to our model's training, we will remove them from our dataset. "
   ]
  },
  {
   "cell_type": "code",
   "execution_count": 43,
   "metadata": {},
   "outputs": [],
   "source": [
    "# Find the number of meaningful words in each review\n",
    "reviews['content_clean_len'] = reviews['content_stem'].str.split().map(len)"
   ]
  },
  {
   "cell_type": "code",
   "execution_count": 44,
   "metadata": {},
   "outputs": [
    {
     "data": {
      "text/plain": [
       "(0, 15)"
      ]
     },
     "execution_count": 44,
     "metadata": {},
     "output_type": "execute_result"
    }
   ],
   "source": [
    "# There are 48 reviews that do not have any meaningful words\n",
    "reviews[reviews['content_clean_len']==0].shape"
   ]
  },
  {
   "cell_type": "code",
   "execution_count": 45,
   "metadata": {
    "scrolled": false
   },
   "outputs": [
    {
     "data": {
      "text/plain": [
       "Series([], Name: content, dtype: object)"
      ]
     },
     "execution_count": 45,
     "metadata": {},
     "output_type": "execute_result"
    }
   ],
   "source": [
    "# View reviews that do not have any meaningful words\n",
    "reviews[reviews['content_clean_len']==0]['content']"
   ]
  },
  {
   "cell_type": "code",
   "execution_count": 46,
   "metadata": {},
   "outputs": [],
   "source": [
    "# Drop these reviews that do not have any meaningful words\n",
    "reviews = reviews.drop(reviews[reviews['content_clean_len']==0].index)"
   ]
  },
  {
   "cell_type": "code",
   "execution_count": 47,
   "metadata": {},
   "outputs": [],
   "source": [
    "# Reindex the dataframe\n",
    "reviews.reset_index(drop=True, inplace=True)"
   ]
  },
  {
   "cell_type": "markdown",
   "metadata": {},
   "source": [
    "### Create a train and test set"
   ]
  },
  {
   "cell_type": "markdown",
   "metadata": {},
   "source": [
    "20% of the original dataset will be set aside and used as a test set. This will be useful in evaluating our model's performance on unseen data.  \n",
    "\n",
    "We will use stratify to preserve the class representation in our train and test set."
   ]
  },
  {
   "cell_type": "code",
   "execution_count": 48,
   "metadata": {},
   "outputs": [],
   "source": [
    "# As we would like to stratify our target variable, we will need to first assign X and y\n",
    "X = reviews[[cols for cols in reviews.columns if cols != 'target']]\n",
    "y = reviews['target']"
   ]
  },
  {
   "cell_type": "code",
   "execution_count": 49,
   "metadata": {},
   "outputs": [],
   "source": [
    "# Perform a train_test_split to create a train and test set\n",
    "X_train, X_test, y_train, y_test = train_test_split(X, y, test_size=0.2, random_state=42, stratify=y)"
   ]
  },
  {
   "cell_type": "code",
   "execution_count": 50,
   "metadata": {},
   "outputs": [],
   "source": [
    "# Merge X_train and y_train back together using index\n",
    "train = pd.merge(X_train, y_train, left_index=True, right_index=True)\n",
    "\n",
    "# Merge X_test and y_test back together using index\n",
    "test = pd.merge(X_test, y_test, left_index=True, right_index=True)"
   ]
  },
  {
   "cell_type": "code",
   "execution_count": 51,
   "metadata": {},
   "outputs": [],
   "source": [
    "# Reindex the train and test set\n",
    "train.reset_index(drop=True, inplace=True)\n",
    "test.reset_index(drop=True, inplace=True)"
   ]
  },
  {
   "cell_type": "code",
   "execution_count": 52,
   "metadata": {},
   "outputs": [
    {
     "data": {
      "text/plain": [
       "(3040, 15)"
      ]
     },
     "execution_count": 52,
     "metadata": {},
     "output_type": "execute_result"
    }
   ],
   "source": [
    "# 3478 documents in our training set\n",
    "train.shape"
   ]
  },
  {
   "cell_type": "code",
   "execution_count": 53,
   "metadata": {},
   "outputs": [
    {
     "data": {
      "text/plain": [
       "(760, 15)"
      ]
     },
     "execution_count": 53,
     "metadata": {},
     "output_type": "execute_result"
    }
   ],
   "source": [
    "# 870 documents in our test set\n",
    "test.shape"
   ]
  },
  {
   "cell_type": "code",
   "execution_count": 54,
   "metadata": {},
   "outputs": [
    {
     "data": {
      "text/plain": [
       "target\n",
       "0    0.526316\n",
       "1    0.473684\n",
       "Name: proportion, dtype: float64"
      ]
     },
     "execution_count": 54,
     "metadata": {},
     "output_type": "execute_result"
    }
   ],
   "source": [
    "# Check split in class labels for training set\n",
    "train['target'].value_counts(normalize=True)"
   ]
  },
  {
   "cell_type": "code",
   "execution_count": 55,
   "metadata": {
    "scrolled": false
   },
   "outputs": [
    {
     "data": {
      "text/plain": [
       "target\n",
       "0    0.526316\n",
       "1    0.473684\n",
       "Name: proportion, dtype: float64"
      ]
     },
     "execution_count": 55,
     "metadata": {},
     "output_type": "execute_result"
    }
   ],
   "source": [
    "# Check split in class labels for test set\n",
    "test['target'].value_counts(normalize=True)"
   ]
  },
  {
   "cell_type": "markdown",
   "metadata": {},
   "source": [
    "Finally, after data cleaning, we now have 3478 reviews for training and 870 reviews in our test set. The class representation is consistent across the train and test set, with 61% of the data belonging to class 0 (positive sentiment) and 39% belonging to class 1 (negative sentiment)."
   ]
  },
  {
   "cell_type": "markdown",
   "metadata": {},
   "source": [
    "## Save clean datasets for modeling"
   ]
  },
  {
   "cell_type": "code",
   "execution_count": 56,
   "metadata": {},
   "outputs": [],
   "source": [
    "# Keep only the columns that we need for modeling and interpretation\n",
    "train = train[['content','content_stem','score','target']]\n",
    "test = test[['content','content_stem','score','target']]"
   ]
  },
  {
   "cell_type": "code",
   "execution_count": 57,
   "metadata": {},
   "outputs": [],
   "source": [
    "# Save clean training set\n",
    "train.to_csv('../SentimentModel/clean_train.csv', index=False)"
   ]
  },
  {
   "cell_type": "code",
   "execution_count": 58,
   "metadata": {},
   "outputs": [],
   "source": [
    "# Save clean test set\n",
    "test.to_csv('../SentimentModel/clean_test.csv', index=False)"
   ]
  }
 ],
 "metadata": {
  "kernelspec": {
   "display_name": "Python 3",
   "language": "python",
   "name": "python3"
  },
  "language_info": {
   "codemirror_mode": {
    "name": "ipython",
    "version": 3
   },
   "file_extension": ".py",
   "mimetype": "text/x-python",
   "name": "python",
   "nbconvert_exporter": "python",
   "pygments_lexer": "ipython3",
   "version": "3.11.3"
  }
 },
 "nbformat": 4,
 "nbformat_minor": 4
}
