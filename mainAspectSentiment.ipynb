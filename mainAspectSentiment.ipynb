{
 "cells": [
  {
   "cell_type": "code",
   "execution_count": 2,
   "metadata": {},
   "outputs": [],
   "source": [
    "# FUNCTION DECLARATIONS\n",
    "\n",
    "# getAspectDescription(text: string) => [{aspect: string, description: string}]\n",
    "# getSentiment(raw_text: string) => (output: string, prediction: (polarity, subjectivity))"
   ]
  },
  {
   "attachments": {},
   "cell_type": "markdown",
   "metadata": {},
   "source": [
    "# getAspectDescription"
   ]
  },
  {
   "cell_type": "code",
   "execution_count": 3,
   "metadata": {},
   "outputs": [],
   "source": [
    "# We get started by importing spacy\n",
    "import spacy\n",
    "nlp = spacy.load(\"en_core_web_lg\")"
   ]
  },
  {
   "cell_type": "code",
   "execution_count": 4,
   "metadata": {},
   "outputs": [],
   "source": [
    "# getAspectDescription(text: string) => [{aspect: string, description: string}]\n",
    "\n",
    "def getAspectDescription(text):\n",
    "    # getAspectDescription(text: string) => [{aspect: string, description: string}]\n",
    "    aspects = []\n",
    "\n",
    "    doc = nlp(text)\n",
    "    descriptive_term = ''\n",
    "    target = []\n",
    "    for token in doc:\n",
    "        if token.dep_ == 'nsubj' and token.pos_ == 'NOUN':\n",
    "            # target = token.text\n",
    "            target.append(token.text)\n",
    "        if token.pos_ == 'ADJ':\n",
    "            prepend = ''\n",
    "            for child in token.children:\n",
    "                if child.pos_ != 'ADV':\n",
    "                    continue\n",
    "                prepend += child.text + ' '\n",
    "            descriptive_term = f\"{prepend}\" + token.text\n",
    "\n",
    "    aspects.append({'aspect': target, 'description': descriptive_term})\n",
    "\n",
    "    return aspects\n"
   ]
  },
  {
   "cell_type": "code",
   "execution_count": 5,
   "metadata": {},
   "outputs": [
    {
     "data": {
      "text/plain": [
       "[{'aspect': ['product'], 'description': 'Poor'}]"
      ]
     },
     "execution_count": 5,
     "metadata": {},
     "output_type": "execute_result"
    }
   ],
   "source": [
    "getAspectDescription('The product is strong, but it was not the right color. Poor packaging')"
   ]
  },
  {
   "attachments": {},
   "cell_type": "markdown",
   "metadata": {},
   "source": [
    "# getSentiment"
   ]
  },
  {
   "cell_type": "code",
   "execution_count": 7,
   "metadata": {},
   "outputs": [],
   "source": [
    "# getSentiment(raw_text: string) => (output: string, prediction: (polarity, subjectivity))\n",
    "import pandas as pd\n",
    "import re\n",
    "from bs4 import BeautifulSoup\n",
    "from nltk.corpus import stopwords\n",
    "from nltk.stem.porter import PorterStemmer\n",
    "import pickle\n",
    "\n",
    "model = pickle.load(open('modelNB.pkl', 'rb'))\n",
    "\n",
    "def getSentiment(raw_text: str):\n",
    "\n",
    "    # Instantiate PorterStemmer\n",
    "    p_stemmer = PorterStemmer()\n",
    "\n",
    "    # Remove HTML\n",
    "    review_text = BeautifulSoup(raw_text).get_text()\n",
    "\n",
    "    # Remove non-letters\n",
    "    letters_only = re.sub(\"[^a-zA-Z]\", \" \", review_text)\n",
    "\n",
    "    # Convert words to lower case and split each word up\n",
    "    words = letters_only.lower().split()\n",
    "\n",
    "    # Convert stopwords to a set\n",
    "    stops = set(stopwords.words('english'))\n",
    "\n",
    "    # Adding on stopwords that were appearing frequently in both positive and negative reviews\n",
    "    stops.update(['app','shopee','shoppee','item','items','seller','sellers','bad'])\n",
    "\n",
    "    # Remove stopwords\n",
    "    meaningful_words = [w for w in words if w not in stops]\n",
    "\n",
    "    # Stem words\n",
    "    meaningful_words = [p_stemmer.stem(w) for w in meaningful_words]\n",
    "\n",
    "    # Join words back into one string, with a space in between each word\n",
    "    final_text = pd.Series(\" \".join(meaningful_words))\n",
    "\n",
    "    # Generate predictions\n",
    "    pred = model.predict(final_text)[0]\n",
    "\n",
    "    if pred == 1:\n",
    "        output = \"Negative\"\n",
    "    else:\n",
    "        output = \"Postive\"\n",
    "\n",
    "    return output, pred\n",
    "\n",
    "\n",
    "# text = \"\"\"\n",
    "# anc work in the first 3 days but the proximity sensor on the left bud stopped working\n",
    "# \"\"\"\n",
    "# result = getSentiment(text)\n",
    "# print(f'RAW_TEXT: \\t{text}')\n",
    "# print(F'\\tSENTIMENT: {result}')"
   ]
  },
  {
   "cell_type": "code",
   "execution_count": 12,
   "metadata": {},
   "outputs": [],
   "source": [
    "text = 'The product is strong, but it was not the right color. Poor packaging'"
   ]
  },
  {
   "cell_type": "code",
   "execution_count": 13,
   "metadata": {},
   "outputs": [
    {
     "name": "stdout",
     "output_type": "stream",
     "text": [
      "Text: The product is strong, but it was not the right color. Poor packaging\t('Negative', 1)\n"
     ]
    }
   ],
   "source": [
    "print(f\"Text: {text}\", getSentiment(text), sep='\\t')"
   ]
  },
  {
   "attachments": {},
   "cell_type": "markdown",
   "metadata": {},
   "source": [
    "# Aspect Sentiment Classification"
   ]
  },
  {
   "cell_type": "code",
   "execution_count": 17,
   "metadata": {},
   "outputs": [
    {
     "name": "stdout",
     "output_type": "stream",
     "text": [
      "[{'aspect': ['effect', 'cats'], 'description': 'very lovey', 'sentiment': ('Postive', 0)}]\n"
     ]
    }
   ],
   "source": [
    "text = 'The food we had yesterday was delicious'\n",
    "aspects = getAspectDescription(text)\n",
    "\n",
    "aspectSentiment = [{'aspect': aspect['aspect'], 'description': aspect['description'], 'sentiment': getSentiment(aspect['description'])} for aspect in aspects]\n",
    "\n",
    "\n",
    "print(aspectSentiment)"
   ]
  }
 ],
 "metadata": {
  "kernelspec": {
   "display_name": "combinedenv",
   "language": "python",
   "name": "python3"
  },
  "language_info": {
   "codemirror_mode": {
    "name": "ipython",
    "version": 3
   },
   "file_extension": ".py",
   "mimetype": "text/x-python",
   "name": "python",
   "nbconvert_exporter": "python",
   "pygments_lexer": "ipython3",
   "version": "3.11.3"
  },
  "orig_nbformat": 4
 },
 "nbformat": 4,
 "nbformat_minor": 2
}
