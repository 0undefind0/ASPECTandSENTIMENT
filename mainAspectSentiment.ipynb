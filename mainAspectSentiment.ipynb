{
 "cells": [
  {
   "cell_type": "code",
   "execution_count": 1,
   "metadata": {},
   "outputs": [],
   "source": [
    "# FUNCTION DECLARATIONS\n",
    "\n",
    "# getAspectDescription(text: string) => [{aspect: string, description: string}]\n",
    "# getSentiment(raw_text: string) => (output: string, prediction: (polarity, subjectivity))"
   ]
  },
  {
   "attachments": {},
   "cell_type": "markdown",
   "metadata": {},
   "source": [
    "# getAspectDescription"
   ]
  },
  {
   "cell_type": "code",
   "execution_count": 2,
   "metadata": {},
   "outputs": [],
   "source": [
    "# We get started by importing spacy\n",
    "import spacy\n",
    "nlp = spacy.load(\"en_core_web_lg\")"
   ]
  },
  {
   "cell_type": "code",
   "execution_count": 3,
   "metadata": {},
   "outputs": [],
   "source": [
    "# getAspectDescription(text: string) => [{aspect: string, description: string}]\n",
    "\n",
    "def getAspectDescription(text):\n",
    "    # getAspectDescription(text: string) => [{aspect: string, description: string}]\n",
    "    aspects = []\n",
    "\n",
    "    doc = nlp(text)\n",
    "    descriptive_term = ''\n",
    "    target = []\n",
    "    for token in doc:\n",
    "        if token.dep_ == 'nsubj' and token.pos_ == 'NOUN':\n",
    "            # target = token.text\n",
    "            target.append(token.text)\n",
    "        if token.pos_ == 'ADJ':\n",
    "            prepend = ''\n",
    "            for child in token.children:\n",
    "                if child.pos_ != 'ADV':\n",
    "                    continue\n",
    "                prepend += child.text + ' '\n",
    "            descriptive_term = f\"{prepend}\" + token.text\n",
    "\n",
    "    aspects.append({'aspect': target, 'description': descriptive_term})\n",
    "\n",
    "    return aspects\n"
   ]
  },
  {
   "cell_type": "code",
   "execution_count": 4,
   "metadata": {},
   "outputs": [
    {
     "name": "stdout",
     "output_type": "stream",
     "text": [
      "[{'aspect': ['quality', 'earphones'], 'description': 'wireless'}]\n",
      "[{'aspect': ['earphones', 'quality'], 'description': 'very happy'}]\n",
      "[{'aspect': ['quality'], 'description': 'comfortable'}]\n",
      "[{'aspect': ['earphones', 'quality'], 'description': 'great'}]\n",
      "[{'aspect': ['quality'], 'description': 'wireless'}]\n",
      "[{'aspect': ['earphones', 'quality', 'life'], 'description': 'really impressive'}]\n",
      "[{'aspect': ['quality'], 'description': 'really easy'}]\n",
      "[{'aspect': ['earphones', 'quality'], 'description': 'really easy'}]\n",
      "[{'aspect': ['quality'], 'description': 'really good'}]\n",
      "[{'aspect': ['earphones', 'quality'], 'description': 'wireless'}]\n"
     ]
    }
   ],
   "source": [
    "sentences = [\n",
    "    \"The sound quality is amazing and the earphones are very comfortable to wear. I would definitely recommend this product to anyone looking for a high-quality wireless earphone.\",\n",
    "    \"These earphones are a great value for the price. They have a long battery life and the sound quality is really good. I'm very happy with my purchase.\",\n",
    "    \"I'm really impressed with these earphones. They connect to my phone really quickly and the sound quality is excellent. Plus, they're very lightweight and comfortable to wear.\",\n",
    "    \"These earphones are so convenient! I love that they're wireless and I don't have to worry about cords getting tangled. The sound quality is great too.\",\n",
    "    \"I bought these earphones for working out and they're perfect. They stay in place really well and the sound quality is really good. I would definitely recommend them to anyone looking for wireless earphones for working out.\",\n",
    "    \"These earphones are amazing! The sound quality is excellent and they're really comfortable to wear. Plus, the battery life is really impressive - I can use them for hours without having to recharge.\",\n",
    "    \"I'm really happy with these earphones. They fit my ears really well and the sound quality is excellent. Plus, they're really easy to use - I can control the volume and playback from the earphones themselves.\",\n",
    "    \"These earphones are so stylish! I love the sleek design and the sound quality is really good too. They're also really easy to pair with my phone.\",\n",
    "    \"I'm very impressed with these earphones. They have a great range and I can use them all over my house without losing connection. The sound quality is also really good.\",\n",
    "    \"These earphones are a great value for the price. They have a long battery life and the sound quality is really good. I would definitely recommend them to anyone looking for wireless earphones.\"\n",
    "]\n",
    "\n",
    "for sentence in sentences:\n",
    "    print(getAspectDescription(sentence))"
   ]
  },
  {
   "attachments": {},
   "cell_type": "markdown",
   "metadata": {},
   "source": [
    "# getSentiment"
   ]
  },
  {
   "cell_type": "code",
   "execution_count": 5,
   "metadata": {},
   "outputs": [],
   "source": [
    "# getSentiment(raw_text: string) => (output: string, prediction: (polarity, subjectivity))\n",
    "import pandas as pd\n",
    "import re\n",
    "from bs4 import BeautifulSoup\n",
    "from nltk.corpus import stopwords\n",
    "from nltk.stem.porter import PorterStemmer\n",
    "import pickle\n",
    "\n",
    "model = pickle.load(open('modelNB.pkl', 'rb'))\n",
    "\n",
    "def getSentiment(raw_text: str):\n",
    "\n",
    "    # Instantiate PorterStemmer\n",
    "    p_stemmer = PorterStemmer()\n",
    "\n",
    "    # Remove HTML\n",
    "    review_text = BeautifulSoup(raw_text).get_text()\n",
    "\n",
    "    # Remove non-letters\n",
    "    letters_only = re.sub(\"[^a-zA-Z]\", \" \", review_text)\n",
    "\n",
    "    # Convert words to lower case and split each word up\n",
    "    words = letters_only.lower().split()\n",
    "\n",
    "    # Convert stopwords to a set\n",
    "    stops = set(stopwords.words('english'))\n",
    "\n",
    "    # Adding on stopwords that were appearing frequently in both positive and negative reviews\n",
    "    stops.update(['app','shopee','shoppee','item','items','seller','sellers','bad'])\n",
    "\n",
    "    # Remove stopwords\n",
    "    meaningful_words = [w for w in words if w not in stops]\n",
    "\n",
    "    # Stem words\n",
    "    meaningful_words = [p_stemmer.stem(w) for w in meaningful_words]\n",
    "\n",
    "    # Join words back into one string, with a space in between each word\n",
    "    final_text = pd.Series(\" \".join(meaningful_words))\n",
    "\n",
    "    # Generate predictions\n",
    "    pred = model.predict(final_text)[0]\n",
    "\n",
    "    if pred == 1:\n",
    "        output = \"Negative\"\n",
    "    else:\n",
    "        output = \"Postive\"\n",
    "\n",
    "    return output\n",
    "\n",
    "\n",
    "# text = \"\"\"\n",
    "# anc work in the first 3 days but the proximity sensor on the left bud stopped working\n",
    "# \"\"\"\n",
    "# result = getSentiment(text)\n",
    "# print(f'RAW_TEXT: \\t{text}')\n",
    "# print(F'\\tSENTIMENT: {result}')"
   ]
  },
  {
   "cell_type": "code",
   "execution_count": 6,
   "metadata": {},
   "outputs": [],
   "source": [
    "text = 'The product is strong, but it was not the right color. Poor packaging'"
   ]
  },
  {
   "cell_type": "code",
   "execution_count": 7,
   "metadata": {},
   "outputs": [
    {
     "name": "stdout",
     "output_type": "stream",
     "text": [
      "Text: The product is strong, but it was not the right color. Poor packaging\tNegative\n"
     ]
    }
   ],
   "source": [
    "print(f\"Text: {text}\", getSentiment(text), sep='\\t')"
   ]
  },
  {
   "attachments": {},
   "cell_type": "markdown",
   "metadata": {},
   "source": [
    "# Aspect Sentiment Classification"
   ]
  },
  {
   "cell_type": "code",
   "execution_count": 8,
   "metadata": {},
   "outputs": [
    {
     "name": "stdout",
     "output_type": "stream",
     "text": [
      "Aspect: ['quality', 'earphones']\n",
      "Description: wireless\n",
      "Sentiment: Postive\n",
      "\n",
      "Aspect: ['earphones', 'quality']\n",
      "Description: very happy\n",
      "Sentiment: Postive\n",
      "\n",
      "Aspect: ['quality']\n",
      "Description: comfortable\n",
      "Sentiment: Postive\n",
      "\n",
      "Aspect: ['earphones', 'quality']\n",
      "Description: great\n",
      "Sentiment: Postive\n",
      "\n",
      "Aspect: ['quality']\n",
      "Description: wireless\n",
      "Sentiment: Postive\n",
      "\n",
      "Aspect: ['earphones', 'quality', 'life']\n",
      "Description: really impressive\n",
      "Sentiment: Postive\n",
      "\n",
      "Aspect: ['quality']\n",
      "Description: really easy\n",
      "Sentiment: Postive\n",
      "\n",
      "Aspect: ['earphones', 'quality']\n",
      "Description: really easy\n",
      "Sentiment: Postive\n",
      "\n",
      "Aspect: ['quality']\n",
      "Description: really good\n",
      "Sentiment: Postive\n",
      "\n",
      "Aspect: ['earphones', 'quality']\n",
      "Description: wireless\n",
      "Sentiment: Postive\n",
      "\n"
     ]
    }
   ],
   "source": [
    "sentences = [\n",
    "    \"The sound quality is amazing and the earphones are very comfortable to wear. I would definitely recommend this product to anyone looking for a high-quality wireless earphone.\",\n",
    "    \"These earphones are a great value for the price. They have a long battery life and the sound quality is really good. I'm very happy with my purchase.\",\n",
    "    \"I'm really impressed with these earphones. They connect to my phone really quickly and the sound quality is excellent. Plus, they're very lightweight and comfortable to wear.\",\n",
    "    \"These earphones are so convenient! I love that they're wireless and I don't have to worry about cords getting tangled. The sound quality is great too.\",\n",
    "    \"I bought these earphones for working out and they're perfect. They stay in place really well and the sound quality is really good. I would definitely recommend them to anyone looking for wireless earphones for working out.\",\n",
    "    \"These earphones are amazing! The sound quality is excellent and they're really comfortable to wear. Plus, the battery life is really impressive - I can use them for hours without having to recharge.\",\n",
    "    \"I'm really happy with these earphones. They fit my ears really well and the sound quality is excellent. Plus, they're really easy to use - I can control the volume and playback from the earphones themselves.\",\n",
    "    \"These earphones are so stylish! I love the sleek design and the sound quality is really good too. They're also really easy to pair with my phone.\",\n",
    "    \"I'm very impressed with these earphones. They have a great range and I can use them all over my house without losing connection. The sound quality is also really good.\",\n",
    "    \"These earphones are a great value for the price. They have a long battery life and the sound quality is really good. I would definitely recommend them to anyone looking for wireless earphones.\"\n",
    "]\n",
    "\n",
    "aspectSentiments = []\n",
    "for sentence in sentences:\n",
    "    aspects = getAspectDescription(sentence)\n",
    "    aspectSentiment = [{'aspect': aspect['aspect'], 'description': aspect['description'], 'sentiment': getSentiment(sentence)} for aspect in aspects]\n",
    "    aspectSentiments.extend(aspectSentiment)\n",
    "\n",
    "for item in aspectSentiments:\n",
    "    print(f\"Aspect: {item['aspect']}\\nDescription: {item['description']}\\nSentiment: {item['sentiment']}\\n\")"
   ]
  },
  {
   "attachments": {},
   "cell_type": "markdown",
   "metadata": {},
   "source": [
    "# Aspect-Sentence Mapping"
   ]
  },
  {
   "cell_type": "code",
   "execution_count": 9,
   "metadata": {},
   "outputs": [
    {
     "name": "stdout",
     "output_type": "stream",
     "text": [
      "('phone',):\n",
      " - The phone has a huge display that is crystal clear. I love watching videos on it.: Postive\n",
      "('phone', 'size'):\n",
      " - This phone is compact and fits perfectly in my pocket. The size is just right.: Postive\n",
      "('camera', 'pictures'):\n",
      " - The camera on this phone is amazing. The pictures come out clear and vivid.: Postive\n",
      "('life',):\n",
      " - The battery life on this phone is incredible. I can go all day without needing to charge it.: Postive\n",
      "():\n",
      " - I'm impressed with the phone's sleek design. It looks great and feels good in my hand.: Postive\n",
      " - The battery on this phone lasts all day and charges quickly. I'm never without a charged phone.: Postive\n",
      " - I'm in love with the phone's display. It's so clear and bright, even in direct sunlight.: Postive\n",
      "('display', 'colors', 'screen'):\n",
      " - The phone's display is one of the best I've seen. The colors are vibrant and the screen is bright.: Postive\n",
      "('size',):\n",
      " - The size of this phone is perfect for one-handed use. It's not too big or too small.: Postive\n",
      "('camera',):\n",
      " - The camera on this phone takes amazing low light photos. I'm really happy with the quality.: Postive\n"
     ]
    }
   ],
   "source": [
    "sentences = [\n",
    "    \"The phone has a huge display that is crystal clear. I love watching videos on it.\",\n",
    "    \"This phone is compact and fits perfectly in my pocket. The size is just right.\",\n",
    "    \"The camera on this phone is amazing. The pictures come out clear and vivid.\",\n",
    "    \"The battery life on this phone is incredible. I can go all day without needing to charge it.\",\n",
    "    \"I'm impressed with the phone's sleek design. It looks great and feels good in my hand.\",\n",
    "    \"The phone's display is one of the best I've seen. The colors are vibrant and the screen is bright.\",\n",
    "    \"The size of this phone is perfect for one-handed use. It's not too big or too small.\",\n",
    "    \"The camera on this phone takes amazing low light photos. I'm really happy with the quality.\",\n",
    "    \"The battery on this phone lasts all day and charges quickly. I'm never without a charged phone.\",\n",
    "    \"I'm in love with the phone's display. It's so clear and bright, even in direct sunlight.\"\n",
    "]\n",
    "\n",
    "#keys = []\n",
    "\n",
    "#for sentence in sentences:\n",
    "    #aspects = getAspectDescription(sentence)\n",
    "    #for aspect in aspects:\n",
    "        #keys.append(str(aspect['aspect']))\n",
    "#aspect_dict = {key: [] for key in keys}\n",
    "\n",
    "#for item in aspectSentiments:\n",
    "    #sentiment = item['sentiment']\n",
    "    #for aspect in aspects:\n",
    "        #if aspect not in aspect\n",
    "    \n",
    "#for key in keys:\n",
    "    #print(key)\n",
    "\n",
    "\n",
    "aspect_dict = {}\n",
    "for sentence in sentences:\n",
    "    aspects = getAspectDescription(sentence)\n",
    "    for aspect in aspects:\n",
    "        aspect_name = tuple(aspect['aspect'])\n",
    "        for item in aspectSentiments:\n",
    "            sentiment = item['sentiment']\n",
    "        if aspect_name not in aspect_dict:\n",
    "            aspect_dict[aspect_name] = {}\n",
    "        aspect_dict[aspect_name][sentence] = sentiment\n",
    "\n",
    "for aspect, sentences in aspect_dict.items():\n",
    "    #num_sentences = len(sentences)\n",
    "    #total_sentiment = sum(sentences.values())\n",
    "    print(f\"{aspect}:\")\n",
    "    for sentence, sentiment in sentences.items():\n",
    "        print(f\" - {sentence}: {sentiment}\")\n"
   ]
  }
 ],
 "metadata": {
  "kernelspec": {
   "display_name": "combinedenv",
   "language": "python",
   "name": "python3"
  },
  "language_info": {
   "codemirror_mode": {
    "name": "ipython",
    "version": 3
   },
   "file_extension": ".py",
   "mimetype": "text/x-python",
   "name": "python",
   "nbconvert_exporter": "python",
   "pygments_lexer": "ipython3",
   "version": "3.10.2"
  },
  "orig_nbformat": 4
 },
 "nbformat": 4,
 "nbformat_minor": 2
}
