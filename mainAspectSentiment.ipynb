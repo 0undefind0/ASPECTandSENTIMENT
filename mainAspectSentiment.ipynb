{
 "cells": [
  {
   "cell_type": "code",
   "execution_count": 46,
   "metadata": {},
   "outputs": [],
   "source": [
    "# FUNCTION DECLARATIONS\n",
    "\n",
    "# getAspectDescription(text: string) => [{aspect: string, description: string}]\n",
    "# getSentiment(raw_text: string) => (output: string, prediction: (polarity, subjectivity))"
   ]
  },
  {
   "attachments": {},
   "cell_type": "markdown",
   "metadata": {},
   "source": [
    "# getAspectDescription"
   ]
  },
  {
   "cell_type": "code",
   "execution_count": 47,
   "metadata": {},
   "outputs": [],
   "source": [
    "# %pip install spacy"
   ]
  },
  {
   "cell_type": "code",
   "execution_count": 48,
   "metadata": {},
   "outputs": [],
   "source": [
    "# We get started by importing spacy\n",
    "import spacy\n",
    "nlp = spacy.load(\"en_core_web_lg\")"
   ]
  },
  {
   "cell_type": "code",
   "execution_count": 49,
   "metadata": {},
   "outputs": [],
   "source": [
    "# getAspectDescription(text: string) => [{aspect: string, description: string}]\n",
    "\n",
    "def getAspectDescription(text):\n",
    "    \"\"\"\n",
    "    This function takes in a string of text and returns a list of dictionaries, each containing the aspect and its corresponding description.\n",
    "\n",
    "    Args:\n",
    "        text (str): The input text to analyze.\n",
    "\n",
    "    Returns:\n",
    "        list: A list of dictionaries, each containing the aspect and its corresponding description.\n",
    "\n",
    "    Example:\n",
    "        >>> text = \"The camera is great but the battery life is short.\"\n",
    "        >>> getAspectDescription(text)\n",
    "        [{'aspect': ['camera'], 'description': 'great'}, {'aspect': ['battery', 'life'], 'description': 'short'}]\n",
    "    \"\"\"\n",
    "    aspects = []\n",
    "\n",
    "    doc = nlp(text)\n",
    "    descriptive_term = ''\n",
    "    target = []\n",
    "    for token in doc:\n",
    "        if token.dep_ == 'nsubj' and token.pos_ == 'NOUN':\n",
    "            # target = token.text\n",
    "            target.append(token.text)\n",
    "        if token.pos_ == 'ADJ':\n",
    "            prepend = ''\n",
    "            for child in token.children:\n",
    "                if child.pos_ != 'ADV':\n",
    "                    continue\n",
    "                prepend += child.text + ' '\n",
    "            descriptive_term = f\"{prepend}\" + token.text\n",
    "\n",
    "    aspects.append({'aspect': target, 'description': descriptive_term})\n",
    "\n",
    "    return aspects\n"
   ]
  },
  {
   "cell_type": "code",
   "execution_count": 50,
   "metadata": {},
   "outputs": [
    {
     "data": {
      "text/plain": [
       "[{'aspect': ['product'], 'description': 'Poor'}]"
      ]
     },
     "execution_count": 50,
     "metadata": {},
     "output_type": "execute_result"
    }
   ],
   "source": [
    "getAspectDescription('The product is strong, but it was not the right color. Poor packaging')"
   ]
  },
  {
   "attachments": {},
   "cell_type": "markdown",
   "metadata": {},
   "source": [
    "# getSentiment"
   ]
  },
  {
   "cell_type": "code",
   "execution_count": 51,
   "metadata": {},
   "outputs": [],
   "source": [
    "# %pip install pandas\n",
    "# %pip install re\n",
    "# %pip install bs4\n",
    "# %pip install nltk\n",
    "# %pip install pickle"
   ]
  },
  {
   "cell_type": "code",
   "execution_count": 52,
   "metadata": {},
   "outputs": [],
   "source": [
    "import pandas as pd\n",
    "import re\n",
    "from bs4 import BeautifulSoup\n",
    "from nltk.corpus import stopwords\n",
    "from nltk.stem.porter import PorterStemmer\n",
    "import pickle"
   ]
  },
  {
   "cell_type": "code",
   "execution_count": 53,
   "metadata": {},
   "outputs": [],
   "source": [
    "# getSentiment(raw_text: string) => (output: string, prediction: (polarity, subjectivity))\n",
    "\n",
    "model = pickle.load(open('modelNB.pkl', 'rb'))\n",
    "\n",
    "def getSentiment(raw_text: str):\n",
    "    \"\"\"\n",
    "    This function takes in a string of raw text and performs sentiment analysis to determine whether the text is positive or negative. It returns a tuple consisting of the sentiment label and the probability of the prediction.\n",
    "\n",
    "    Args:\n",
    "        raw_text (str): The raw text to analyze.\n",
    "\n",
    "    Returns:\n",
    "        tuple: A tuple consisting of the sentiment label and the probability of the prediction.\n",
    "\n",
    "    Example:\n",
    "        >>> raw_text = \"This product is amazing! I love it so much.\"\n",
    "        >>> getSentiment(raw_text)\n",
    "        ('Positive', array([[0.00819811, 0.99180189]]))\n",
    "    \"\"\"\n",
    "\n",
    "    # Instantiate PorterStemmer\n",
    "    p_stemmer = PorterStemmer()\n",
    "\n",
    "    # Remove HTML\n",
    "    review_text = BeautifulSoup(raw_text).get_text()\n",
    "\n",
    "    # Remove non-letters\n",
    "    letters_only = re.sub(\"[^a-zA-Z]\", \" \", review_text)\n",
    "\n",
    "    # Convert words to lower case and split each word up\n",
    "    words = letters_only.lower().split()\n",
    "\n",
    "    # Convert stopwords to a set\n",
    "    stops = set(stopwords.words('english'))\n",
    "\n",
    "    # Adding on stopwords that were appearing frequently in both positive and negative reviews\n",
    "    stops.update(['app','shopee','shoppee','item','items','seller','sellers','bad'])\n",
    "\n",
    "    # Remove stopwords\n",
    "    meaningful_words = [w for w in words if w not in stops]\n",
    "\n",
    "    # Stem words\n",
    "    meaningful_words = [p_stemmer.stem(w) for w in meaningful_words]\n",
    "\n",
    "    # Join words back into one string, with a space in between each word\n",
    "    final_text = pd.Series(\" \".join(meaningful_words))\n",
    "\n",
    "    # Generate predictions\n",
    "    pred = model.predict(final_text)[0]\n",
    "    probability = model.predict_proba([pd.Series.to_string(final_text)])\n",
    "\n",
    "\n",
    "    if pred == 1:\n",
    "        output = \"Negative\"\n",
    "    else:\n",
    "        output = \"Postive\"\n",
    "\n",
    "    return output, probability\n"
   ]
  },
  {
   "cell_type": "code",
   "execution_count": 54,
   "metadata": {},
   "outputs": [],
   "source": [
    "text = 'The product is strong, but it was not the right color. Poor packaging'"
   ]
  },
  {
   "cell_type": "code",
   "execution_count": 55,
   "metadata": {},
   "outputs": [],
   "source": [
    "output, proba = getSentiment(text)"
   ]
  },
  {
   "cell_type": "code",
   "execution_count": 56,
   "metadata": {},
   "outputs": [
    {
     "name": "stdout",
     "output_type": "stream",
     "text": [
      "Text: The product is strong, but it was not the right color. Poor packaging\tNegative\t[[0.22424745 0.77575255]]\n"
     ]
    }
   ],
   "source": [
    "print(f\"Text: {text}\", output, proba, sep='\\t')"
   ]
  },
  {
   "attachments": {},
   "cell_type": "markdown",
   "metadata": {},
   "source": [
    "# Aspect Sentiment Classification"
   ]
  },
  {
   "cell_type": "code",
   "execution_count": 57,
   "metadata": {},
   "outputs": [
    {
     "name": "stdout",
     "output_type": "stream",
     "text": [
      "[{'aspect': ['food'], 'description': 'delicious', 'sentiment': ('Postive', array([[0.60999281, 0.39000719]]))}]\n"
     ]
    }
   ],
   "source": [
    "text = 'The food we had yesterday was delicious'\n",
    "aspects = getAspectDescription(text)\n",
    "\n",
    "aspectSentiment = [{'aspect': aspect['aspect'], 'description': aspect['description'], 'sentiment': getSentiment(aspect['description'])} for aspect in aspects]\n",
    "\n",
    "\n",
    "print(aspectSentiment)"
   ]
  },
  {
   "cell_type": "code",
   "execution_count": null,
   "metadata": {},
   "outputs": [],
   "source": []
  },
  {
   "attachments": {},
   "cell_type": "markdown",
   "metadata": {},
   "source": [
    "Craig"
   ]
  },
  {
   "cell_type": "code",
   "execution_count": 58,
   "metadata": {},
   "outputs": [
    {
     "name": "stdout",
     "output_type": "stream",
     "text": [
      "('phone',):\n",
      " - The phone has a huge display that is crystal clear. I love watching videos on it.: ('Postive', array([[0.60999281, 0.39000719]]))\n",
      "('phone', 'size'):\n",
      " - This phone is compact and fits perfectly in my pocket. The size is just right.: ('Postive', array([[0.60999281, 0.39000719]]))\n",
      "('camera', 'pictures'):\n",
      " - The camera on this phone is amazing. The pictures come out clear and vivid.: ('Postive', array([[0.60999281, 0.39000719]]))\n",
      "('life',):\n",
      " - The battery life on this phone is incredible. I can go all day without needing to charge it.: ('Postive', array([[0.60999281, 0.39000719]]))\n",
      "():\n",
      " - I'm impressed with the phone's sleek design. It looks great and feels good in my hand.: ('Postive', array([[0.60999281, 0.39000719]]))\n",
      " - The battery on this phone lasts all day and charges quickly. I'm never without a charged phone.: ('Postive', array([[0.60999281, 0.39000719]]))\n",
      " - I'm in love with the phone's display. It's so clear and bright, even in direct sunlight.: ('Postive', array([[0.60999281, 0.39000719]]))\n",
      "('display', 'colors', 'screen'):\n",
      " - The phone's display is one of the best I've seen. The colors are vibrant and the screen is bright.: ('Postive', array([[0.60999281, 0.39000719]]))\n",
      "('size',):\n",
      " - The size of this phone is perfect for one-handed use. It's not too big or too small.: ('Postive', array([[0.60999281, 0.39000719]]))\n",
      "('camera',):\n",
      " - The camera on this phone takes amazing low light photos. I'm really happy with the quality.: ('Postive', array([[0.60999281, 0.39000719]]))\n"
     ]
    }
   ],
   "source": [
    "sentences = [\n",
    "    \"The phone has a huge display that is crystal clear. I love watching videos on it.\",\n",
    "    \"This phone is compact and fits perfectly in my pocket. The size is just right.\",\n",
    "    \"The camera on this phone is amazing. The pictures come out clear and vivid.\",\n",
    "    \"The battery life on this phone is incredible. I can go all day without needing to charge it.\",\n",
    "    \"I'm impressed with the phone's sleek design. It looks great and feels good in my hand.\",\n",
    "    \"The phone's display is one of the best I've seen. The colors are vibrant and the screen is bright.\",\n",
    "    \"The size of this phone is perfect for one-handed use. It's not too big or too small.\",\n",
    "    \"The camera on this phone takes amazing low light photos. I'm really happy with the quality.\",\n",
    "    \"The battery on this phone lasts all day and charges quickly. I'm never without a charged phone.\",\n",
    "    \"I'm in love with the phone's display. It's so clear and bright, even in direct sunlight.\"\n",
    "]\n",
    "\n",
    "#keys = []\n",
    "\n",
    "#for sentence in sentences:\n",
    "    #aspects = getAspectDescription(sentence)\n",
    "    #for aspect in aspects:\n",
    "        #keys.append(str(aspect['aspect']))\n",
    "#aspect_dict = {key: [] for key in keys}\n",
    "\n",
    "#for item in aspectSentiments:\n",
    "    #sentiment = item['sentiment']\n",
    "    #for aspect in aspects:\n",
    "        #if aspect not in aspect\n",
    "    \n",
    "#for key in keys:\n",
    "    #print(key)\n",
    "\n",
    "\n",
    "aspect_dict = {}\n",
    "for sentence in sentences:\n",
    "    aspects = getAspectDescription(sentence)\n",
    "    for aspect in aspects:\n",
    "        aspect_name = tuple(aspect['aspect'])\n",
    "        for item in aspectSentiment:\n",
    "            sentiment = item['sentiment']\n",
    "        if aspect_name not in aspect_dict:\n",
    "            aspect_dict[aspect_name] = {}\n",
    "        aspect_dict[aspect_name][sentence] = sentiment\n",
    "\n",
    "for aspect, sentences in aspect_dict.items():\n",
    "    print(f\"{aspect}:\")\n",
    "    for sentence, sentiment in sentences.items():\n",
    "        print(f\" - {sentence}: {sentiment}\")"
   ]
  }
 ],
 "metadata": {
  "kernelspec": {
   "display_name": "combinedenv",
   "language": "python",
   "name": "python3"
  },
  "language_info": {
   "codemirror_mode": {
    "name": "ipython",
    "version": 3
   },
   "file_extension": ".py",
   "mimetype": "text/x-python",
   "name": "python",
   "nbconvert_exporter": "python",
   "pygments_lexer": "ipython3",
   "version": "3.11.3"
  },
  "orig_nbformat": 4
 },
 "nbformat": 4,
 "nbformat_minor": 2
}
